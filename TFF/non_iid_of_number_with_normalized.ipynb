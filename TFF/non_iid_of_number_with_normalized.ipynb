{
 "cells": [
  {
   "cell_type": "code",
   "execution_count": 2,
   "metadata": {},
   "outputs": [],
   "source": [
    "#@title Licensed under the Apache License, Version 2.0 (the \"License\");\n",
    "# you may not use this file except in compliance with the License.\n",
    "# You may obtain a copy of the License at\n",
    "#\n",
    "# https://www.apache.org/licenses/LICENSE-2.0\n",
    "#\n",
    "# Unless required by applicable law or agreed to in writing, software\n",
    "# distributed under the License is distributed on an \"AS IS\" BASIS,\n",
    "# WITHOUT WARRANTIES OR CONDITIONS OF ANY KIND, either express or implied.\n",
    "# See the License for the specific language governing permissions and\n",
    "# limitations under the License."
   ]
  },
  {
   "cell_type": "code",
   "execution_count": 1,
   "metadata": {},
   "outputs": [
    {
     "data": {
      "text/plain": [
       "b'Hello, World!'"
      ]
     },
     "execution_count": 1,
     "metadata": {},
     "output_type": "execute_result"
    }
   ],
   "source": [
    "import collections\n",
    "\n",
    "import numpy as np\n",
    "import tensorflow as tf\n",
    "import tensorflow_federated as tff\n",
    "\n",
    "tf.compat.v1.enable_v2_behavior()\n",
    "\n",
    "np.random.seed(0)\n",
    "\n",
    "tff.federated_computation(lambda: 'Hello, World!')()"
   ]
  },
  {
   "cell_type": "code",
   "execution_count": 2,
   "metadata": {},
   "outputs": [],
   "source": [
    "emnist_train, emnist_test = tf.keras.datasets.mnist.load_data()"
   ]
  },
  {
   "cell_type": "code",
   "execution_count": 3,
   "metadata": {},
   "outputs": [],
   "source": [
    "# emnist_train.client_ids[:10]"
   ]
  },
  {
   "cell_type": "code",
   "execution_count": 4,
   "metadata": {},
   "outputs": [],
   "source": [
    "# emnist_train.element_type_structure"
   ]
  },
  {
   "cell_type": "code",
   "execution_count": 5,
   "metadata": {},
   "outputs": [],
   "source": [
    "# example_dataset = emnist_train.create_tf_dataset_for_client(\n",
    "#     emnist_train.client_ids[0])\n",
    "\n",
    "# example_element = next(iter(example_dataset))\n",
    "\n",
    "# example_element['pixels'].numpy().shape"
   ]
  },
  {
   "cell_type": "code",
   "execution_count": 6,
   "metadata": {},
   "outputs": [
    {
     "name": "stdout",
     "output_type": "stream",
     "text": [
      "image shape with batch: (60000, 28, 28)\n"
     ]
    }
   ],
   "source": [
    "print('image shape with batch:', emnist_train[0].shape)"
   ]
  },
  {
   "cell_type": "code",
   "execution_count": 7,
   "metadata": {},
   "outputs": [
    {
     "data": {
      "image/png": "[encoded data removed]",
      "text/plain": [
       "<Figure size 432x288 with 1 Axes>"
      ]
     },
     "metadata": {
      "needs_background": "light"
     },
     "output_type": "display_data"
    }
   ],
   "source": [
    "%matplotlib inline\n",
    "from matplotlib import pyplot as plt\n",
    "plt.imshow(emnist_train[0][0], cmap='gray', aspect='equal')\n",
    "plt.grid(False)\n",
    "plt.show()"
   ]
  },
  {
   "cell_type": "code",
   "execution_count": 8,
   "metadata": {},
   "outputs": [
    {
     "name": "stderr",
     "output_type": "stream",
     "text": [
      "100%|██████████| 10/10 [00:58<00:00,  5.88s/it]\n",
      "100%|██████████| 10/10 [00:57<00:00,  5.80s/it]\n",
      "100%|██████████| 10/10 [00:57<00:00,  5.75s/it]\n",
      "100%|██████████| 10/10 [00:56<00:00,  5.68s/it]\n",
      "100%|██████████| 10/10 [00:55<00:00,  5.56s/it]\n",
      "100%|██████████| 10/10 [00:57<00:00,  5.75s/it]\n",
      "100%|██████████| 10/10 [00:57<00:00,  5.73s/it]\n",
      "100%|██████████| 10/10 [00:56<00:00,  5.64s/it]\n",
      "100%|██████████| 10/10 [00:58<00:00,  5.85s/it]\n",
      "100%|██████████| 10/10 [00:57<00:00,  5.80s/it]\n",
      "100%|██████████| 10/10 [00:58<00:00,  5.80s/it]\n",
      "100%|██████████| 10/10 [00:58<00:00,  5.81s/it]\n",
      "100%|██████████| 10/10 [00:57<00:00,  5.79s/it]\n",
      "100%|██████████| 10/10 [00:57<00:00,  5.76s/it]\n",
      "100%|██████████| 10/10 [00:56<00:00,  5.64s/it]\n",
      "100%|██████████| 10/10 [00:55<00:00,  5.54s/it]\n",
      "100%|██████████| 10/10 [00:55<00:00,  5.55s/it]\n",
      "100%|██████████| 10/10 [00:55<00:00,  5.52s/it]\n",
      "100%|██████████| 10/10 [00:56<00:00,  5.65s/it]\n",
      "100%|██████████| 10/10 [00:57<00:00,  5.71s/it]\n"
     ]
    }
   ],
   "source": [
    "# NUM_CLIENTS = 20\n",
    "# NUM_EPOCHS = 5\n",
    "# BATCH_SIZE = 64\n",
    "# SHUFFLE_BUFFER = 100\n",
    "# PREFETCH_BUFFER=10\n",
    "\n",
    "# def preprocess(dataset):\n",
    "\n",
    "#   def batch_format_fn(element):\n",
    "#     \"\"\"Flatten a batch `pixels` and return the features as an `OrderedDict`.\"\"\"\n",
    "#     return collections.OrderedDict(\n",
    "#         x=tf.reshape(element['pixels'],[-1, 28,28,1]),#tf.reshape(element['pixels'], [-1, 784]),\n",
    "#         y=tf.reshape(element['label'], [-1, 1]))\n",
    "\n",
    "#   return dataset.repeat(NUM_EPOCHS).shuffle(SHUFFLE_BUFFER).batch(\n",
    "#       BATCH_SIZE).map(batch_format_fn).prefetch(PREFETCH_BUFFER)\n",
    "NUM_EXAMPLES_PER_USER = 600\n",
    "B = 10\n",
    "BATCH_SIZE = NUM_EXAMPLES_PER_USER//B\n",
    "EPOCHS = 20\n",
    "NUMBER_OF_CLIENTS = 10\n",
    "\n",
    "from tqdm import tqdm\n",
    "\n",
    "def get_data_for_digit(source, digit):\n",
    "  output_sequence = []\n",
    "  all_samples = [i for i, d in enumerate(source[1]) if d == digit]\n",
    "  for i in tqdm(range(0, min(len(all_samples), NUM_EXAMPLES_PER_USER), BATCH_SIZE)):\n",
    "    batch_samples = all_samples[i:i + BATCH_SIZE]\n",
    "    output_sequence.append({\n",
    "        'x':\n",
    "            np.array([tf.reshape(source[0][i]/255.0, [28,28,1]) for i in batch_samples],\n",
    "                     dtype=np.float32),\n",
    "        'y':\n",
    "            np.array([tf.reshape(source[1][i], [1]) for i in batch_samples], dtype=np.int32)\n",
    "    })\n",
    "  return output_sequence\n",
    "\n",
    "\n",
    "federated_train_data = [get_data_for_digit(emnist_train, d) for d in range(NUMBER_OF_CLIENTS)] * EPOCHS\n",
    "\n",
    "\n",
    "\n",
    "federated_test_data = [get_data_for_digit(emnist_test, d) for d in range(NUMBER_OF_CLIENTS)]\n"
   ]
  },
  {
   "cell_type": "code",
   "execution_count": 9,
   "metadata": {},
   "outputs": [
    {
     "ename": "NameError",
     "evalue": "name 'preprocess' is not defined",
     "output_type": "error",
     "traceback": [
      "\u001b[0;31m---------------------------------------------------------------------------\u001b[0m",
      "\u001b[0;31mNameError\u001b[0m                                 Traceback (most recent call last)",
      "\u001b[0;32m<ipython-input-9-fb81508a3632>\u001b[0m in \u001b[0;36m<module>\u001b[0;34m\u001b[0m\n\u001b[0;32m----> 1\u001b[0;31m \u001b[0mpreprocessed_example_dataset\u001b[0m \u001b[0;34m=\u001b[0m \u001b[0mpreprocess\u001b[0m\u001b[0;34m(\u001b[0m\u001b[0mexample_dataset\u001b[0m\u001b[0;34m)\u001b[0m\u001b[0;34m\u001b[0m\u001b[0;34m\u001b[0m\u001b[0m\n\u001b[0m\u001b[1;32m      2\u001b[0m \u001b[0mpreprocessed_example_dataset\u001b[0m\u001b[0;34m\u001b[0m\u001b[0;34m\u001b[0m\u001b[0m\n\u001b[1;32m      3\u001b[0m sample_batch = tf.nest.map_structure(lambda x: x.numpy(),\n\u001b[1;32m      4\u001b[0m                                      next(iter(preprocessed_example_dataset)))\n\u001b[1;32m      5\u001b[0m \u001b[0msample_batch\u001b[0m\u001b[0;34m[\u001b[0m\u001b[0;34m'y'\u001b[0m\u001b[0;34m]\u001b[0m\u001b[0;34m.\u001b[0m\u001b[0mshape\u001b[0m\u001b[0;34m\u001b[0m\u001b[0;34m\u001b[0m\u001b[0m\n",
      "\u001b[0;31mNameError\u001b[0m: name 'preprocess' is not defined"
     ]
    }
   ],
   "source": [
    "preprocessed_example_dataset = preprocess(example_dataset)\n",
    "preprocessed_example_dataset\n",
    "sample_batch = tf.nest.map_structure(lambda x: x.numpy(),\n",
    "                                     next(iter(preprocessed_example_dataset)))\n",
    "sample_batch['y'].shape\n"
   ]
  },
  {
   "cell_type": "code",
   "execution_count": null,
   "metadata": {},
   "outputs": [],
   "source": [
    "# def make_federated_data(client_data, client_ids):\n",
    "#   return [\n",
    "#       preprocess(client_data.create_tf_dataset_for_client(x))\n",
    "#       for x in client_ids\n",
    "#   ]"
   ]
  },
  {
   "cell_type": "code",
   "execution_count": 10,
   "metadata": {},
   "outputs": [
    {
     "name": "stdout",
     "output_type": "stream",
     "text": [
      "x shape: (60, 28, 28, 1)\n",
      "y shape: (60, 1)\n"
     ]
    }
   ],
   "source": [
    "#next(iter(preprocess(emnist_train.create_tf_dataset_for_client('f0000_14'))))\n",
    "print(\"x shape:\",federated_train_data[0][0]['x'].shape)\n",
    "print(\"y shape:\", federated_train_data[0][0]['y'].shape)\n"
   ]
  },
  {
   "cell_type": "code",
   "execution_count": 11,
   "metadata": {},
   "outputs": [
    {
     "data": {
      "text/plain": [
       "tuple"
      ]
     },
     "execution_count": 11,
     "metadata": {},
     "output_type": "execute_result"
    }
   ],
   "source": [
    "type(emnist_train)"
   ]
  },
  {
   "cell_type": "code",
   "execution_count": 12,
   "metadata": {},
   "outputs": [],
   "source": [
    "#sample_clients = emnist_train.client_ids[0:NUM_CLIENTS]\n",
    "\n",
    "#federated_train_data = make_federated_data(emnist_train, sample_clients)\n",
    "\n",
    "# print('Number of client datasets: {l}'.format(l=len(federated_train_data)))\n",
    "# print('First dataset: {d}'.format(d=federated_train_data[0]))\n",
    "# print('Second dataset: {d}'.format(d=federated_train_data[1]))"
   ]
  },
  {
   "cell_type": "code",
   "execution_count": 13,
   "metadata": {},
   "outputs": [],
   "source": [
    "def create_keras_model():\n",
    "  return tf.keras.models.Sequential([\n",
    "      tf.keras.layers.Input(shape = (28,28,1)),\n",
    "      tf.keras.layers.Conv2D(filters = 32, kernel_size = (5,5), activation = 'relu'),\n",
    "      tf.keras.layers.MaxPool2D(),\n",
    "      tf.keras.layers.Conv2D(filters = 64, kernel_size = (5,5), activation = 'relu'),\n",
    "      tf.keras.layers.MaxPool2D(),\n",
    "      tf.keras.layers.Flatten(),\n",
    "      tf.keras.layers.Dense(512, activation = 'relu'),\n",
    "      tf.keras.layers.Dense(10),\n",
    "      tf.keras.layers.Softmax(),\n",
    "  ])\n",
    "\n",
    "#       tf.keras.layers.Input(shape=(784,)),\n",
    "#       tf.keras.layers.Dense(10, kernel_initializer='zeros'),\n",
    "#       tf.keras.layers.Softmax(),"
   ]
  },
  {
   "cell_type": "code",
   "execution_count": 14,
   "metadata": {},
   "outputs": [],
   "source": [
    "input_spec = collections.OrderedDict(([('x',\n",
    "              tf.TensorSpec(shape=(None, 28, 28, 1), dtype=tf.float32, name=None)),\n",
    "             ('y', tf.TensorSpec(shape=(None, 1), dtype=tf.int32, name=None))]))\n",
    "def model_fn():\n",
    "  # We _must_ create a new model here, and _not_ capture it from an external\n",
    "  # scope. TFF will call this within different graph contexts.\n",
    "  keras_model = create_keras_model()\n",
    "  return tff.learning.from_keras_model(\n",
    "      keras_model,\n",
    "      input_spec=input_spec,\n",
    "      loss=tf.keras.losses.SparseCategoricalCrossentropy(),\n",
    "      metrics=[tf.keras.metrics.SparseCategoricalAccuracy()])\n"
   ]
  },
  {
   "cell_type": "code",
   "execution_count": 15,
   "metadata": {},
   "outputs": [
    {
     "name": "stdout",
     "output_type": "stream",
     "text": [
      "Model: \"sequential\"\n",
      "_________________________________________________________________\n",
      "Layer (type)                 Output Shape              Param #   \n",
      "=================================================================\n",
      "conv2d (Conv2D)              (None, 24, 24, 32)        832       \n",
      "_________________________________________________________________\n",
      "max_pooling2d (MaxPooling2D) (None, 12, 12, 32)        0         \n",
      "_________________________________________________________________\n",
      "conv2d_1 (Conv2D)            (None, 8, 8, 64)          51264     \n",
      "_________________________________________________________________\n",
      "max_pooling2d_1 (MaxPooling2 (None, 4, 4, 64)          0         \n",
      "_________________________________________________________________\n",
      "flatten (Flatten)            (None, 1024)              0         \n",
      "_________________________________________________________________\n",
      "dense (Dense)                (None, 512)               524800    \n",
      "_________________________________________________________________\n",
      "dense_1 (Dense)              (None, 10)                5130      \n",
      "_________________________________________________________________\n",
      "softmax (Softmax)            (None, 10)                0         \n",
      "=================================================================\n",
      "Total params: 582,026\n",
      "Trainable params: 582,026\n",
      "Non-trainable params: 0\n",
      "_________________________________________________________________\n"
     ]
    }
   ],
   "source": [
    "keras_model = create_keras_model()\n",
    "keras_model.summary()"
   ]
  },
  {
   "cell_type": "code",
   "execution_count": 16,
   "metadata": {},
   "outputs": [
    {
     "name": "stdout",
     "output_type": "stream",
     "text": [
      "WARNING:tensorflow:From /opt/conda/lib/python3.6/site-packages/tensorflow/python/ops/resource_variable_ops.py:1666: calling BaseResourceVariable.__init__ (from tensorflow.python.ops.resource_variable_ops) with constraint is deprecated and will be removed in a future version.\n",
      "Instructions for updating:\n",
      "If using Keras pass *_constraint arguments to layers.\n"
     ]
    },
    {
     "name": "stderr",
     "output_type": "stream",
     "text": [
      "WARNING:tensorflow:From /opt/conda/lib/python3.6/site-packages/tensorflow/python/ops/resource_variable_ops.py:1666: calling BaseResourceVariable.__init__ (from tensorflow.python.ops.resource_variable_ops) with constraint is deprecated and will be removed in a future version.\n",
      "Instructions for updating:\n",
      "If using Keras pass *_constraint arguments to layers.\n"
     ]
    }
   ],
   "source": [
    "iterative_process = tff.learning.build_federated_averaging_process(\n",
    "    model_fn,\n",
    "    client_optimizer_fn=lambda: tf.keras.optimizers.SGD(learning_rate=0.02),\n",
    "    server_optimizer_fn=lambda: tf.keras.optimizers.SGD(learning_rate=1.0))"
   ]
  },
  {
   "cell_type": "code",
   "execution_count": 17,
   "metadata": {},
   "outputs": [
    {
     "data": {
      "text/plain": [
       "'( -> <model=<trainable=<float32[5,5,1,32],float32[32],float32[5,5,32,64],float32[64],float32[1024,512],float32[512],float32[512,10],float32[10]>,non_trainable=<>>,optimizer_state=<int64>,delta_aggregate_state=<>,model_broadcast_state=<>>@SERVER)'"
      ]
     },
     "execution_count": 17,
     "metadata": {},
     "output_type": "execute_result"
    }
   ],
   "source": [
    "str(iterative_process.initialize.type_signature)"
   ]
  },
  {
   "cell_type": "code",
   "execution_count": 18,
   "metadata": {},
   "outputs": [],
   "source": [
    "state = iterative_process.initialize()"
   ]
  },
  {
   "cell_type": "code",
   "execution_count": 19,
   "metadata": {},
   "outputs": [
    {
     "name": "stdout",
     "output_type": "stream",
     "text": [
      "round  1, metrics=<sparse_categorical_accuracy=0.9136666655540466,loss=0.8317349553108215>\n"
     ]
    }
   ],
   "source": [
    "state, metrics = iterative_process.next(state, federated_train_data)\n",
    "print('round  1, metrics={}'.format(metrics))"
   ]
  },
  {
   "cell_type": "code",
   "execution_count": 20,
   "metadata": {},
   "outputs": [
    {
     "name": "stdout",
     "output_type": "stream",
     "text": [
      "round  2, metrics=<sparse_categorical_accuracy=0.9156666398048401,loss=0.337597519159317>\n",
      "round  3, metrics=<sparse_categorical_accuracy=0.9233333468437195,loss=0.2529407739639282>\n",
      "round  4, metrics=<sparse_categorical_accuracy=0.9394999742507935,loss=0.23025688529014587>\n",
      "round  5, metrics=<sparse_categorical_accuracy=0.9418333172798157,loss=0.22022061049938202>\n",
      "round  6, metrics=<sparse_categorical_accuracy=0.9493333101272583,loss=0.21348322927951813>\n",
      "round  7, metrics=<sparse_categorical_accuracy=0.953000009059906,loss=0.20799757540225983>\n",
      "round  8, metrics=<sparse_categorical_accuracy=0.9568333625793457,loss=0.2031826674938202>\n",
      "round  9, metrics=<sparse_categorical_accuracy=0.9616666436195374,loss=0.19870543479919434>\n",
      "round 10, metrics=<sparse_categorical_accuracy=0.9648333191871643,loss=0.1944132000207901>\n",
      "round 11, metrics=<sparse_categorical_accuracy=0.9673333168029785,loss=0.1902112513780594>\n",
      "round 12, metrics=<sparse_categorical_accuracy=0.968500018119812,loss=0.1860790252685547>\n",
      "round 13, metrics=<sparse_categorical_accuracy=0.9696666598320007,loss=0.18194372951984406>\n",
      "round 14, metrics=<sparse_categorical_accuracy=0.9710000157356262,loss=0.1777728646993637>\n",
      "round 15, metrics=<sparse_categorical_accuracy=0.9731666445732117,loss=0.17356139421463013>\n",
      "round 16, metrics=<sparse_categorical_accuracy=0.9743333458900452,loss=0.16931751370429993>\n",
      "round 17, metrics=<sparse_categorical_accuracy=0.9750000238418579,loss=0.16505780816078186>\n",
      "round 18, metrics=<sparse_categorical_accuracy=0.9764999747276306,loss=0.1607838124036789>\n",
      "round 19, metrics=<sparse_categorical_accuracy=0.9775000214576721,loss=0.15649408102035522>\n",
      "round 20, metrics=<sparse_categorical_accuracy=0.9781666398048401,loss=0.15219871699810028>\n",
      "round 21, metrics=<sparse_categorical_accuracy=0.9781666398048401,loss=0.14790207147598267>\n",
      "round 22, metrics=<sparse_categorical_accuracy=0.9786666631698608,loss=0.14362195134162903>\n",
      "round 23, metrics=<sparse_categorical_accuracy=0.9791666865348816,loss=0.13937385380268097>\n",
      "round 24, metrics=<sparse_categorical_accuracy=0.9785000085830688,loss=0.13518190383911133>\n",
      "round 25, metrics=<sparse_categorical_accuracy=0.9791666865348816,loss=0.1310644894838333>\n",
      "round 26, metrics=<sparse_categorical_accuracy=0.9789999723434448,loss=0.12703771889209747>\n",
      "round 27, metrics=<sparse_categorical_accuracy=0.9793333411216736,loss=0.12311306595802307>\n",
      "round 28, metrics=<sparse_categorical_accuracy=0.9794999957084656,loss=0.11931566894054413>\n",
      "round 29, metrics=<sparse_categorical_accuracy=0.9803333282470703,loss=0.11575581878423691>\n",
      "round 30, metrics=<sparse_categorical_accuracy=0.9769999980926514,loss=0.11294961720705032>\n",
      "round 31, metrics=<sparse_categorical_accuracy=0.9746666550636292,loss=0.11367350071668625>\n",
      "round 32, metrics=<sparse_categorical_accuracy=0.9568333625793457,loss=0.1308683604001999>\n",
      "round 33, metrics=<sparse_categorical_accuracy=0.9495000243186951,loss=0.1869397610425949>\n",
      "round 34, metrics=<sparse_categorical_accuracy=0.9520000219345093,loss=0.1839054971933365>\n",
      "round 35, metrics=<sparse_categorical_accuracy=0.9539999961853027,loss=0.15598523616790771>\n",
      "round 36, metrics=<sparse_categorical_accuracy=0.9624999761581421,loss=0.15729941427707672>\n",
      "round 37, metrics=<sparse_categorical_accuracy=0.9651666879653931,loss=0.11765242367982864>\n",
      "round 38, metrics=<sparse_categorical_accuracy=0.9726666808128357,loss=0.10891802608966827>\n",
      "round 39, metrics=<sparse_categorical_accuracy=0.9681666493415833,loss=0.11569686979055405>\n",
      "round 40, metrics=<sparse_categorical_accuracy=0.968833327293396,loss=0.11097769439220428>\n",
      "round 41, metrics=<sparse_categorical_accuracy=0.9626666903495789,loss=0.1157943606376648>\n",
      "round 42, metrics=<sparse_categorical_accuracy=0.965666651725769,loss=0.12752453982830048>\n",
      "round 43, metrics=<sparse_categorical_accuracy=0.9664999842643738,loss=0.10693640261888504>\n",
      "round 44, metrics=<sparse_categorical_accuracy=0.9666666388511658,loss=0.10833030939102173>\n",
      "round 45, metrics=<sparse_categorical_accuracy=0.9653333425521851,loss=0.10404136031866074>\n",
      "round 46, metrics=<sparse_categorical_accuracy=0.9683333039283752,loss=0.11217304319143295>\n",
      "round 47, metrics=<sparse_categorical_accuracy=0.9751666784286499,loss=0.09146387875080109>\n",
      "round 48, metrics=<sparse_categorical_accuracy=0.9725000262260437,loss=0.09334833920001984>\n",
      "round 49, metrics=<sparse_categorical_accuracy=0.9736666679382324,loss=0.08931504189968109>\n",
      "round 50, metrics=<sparse_categorical_accuracy=0.9713333249092102,loss=0.09472937881946564>\n",
      "round 51, metrics=<sparse_categorical_accuracy=0.9748333096504211,loss=0.08640691637992859>\n",
      "round 52, metrics=<sparse_categorical_accuracy=0.9701666831970215,loss=0.09311448782682419>\n",
      "round 53, metrics=<sparse_categorical_accuracy=0.9741666913032532,loss=0.08511091023683548>\n",
      "round 54, metrics=<sparse_categorical_accuracy=0.9708333611488342,loss=0.09116975218057632>\n",
      "round 55, metrics=<sparse_categorical_accuracy=0.9753333330154419,loss=0.08153162896633148>\n",
      "round 56, metrics=<sparse_categorical_accuracy=0.9710000157356262,loss=0.08690080791711807>\n",
      "round 57, metrics=<sparse_categorical_accuracy=0.9748333096504211,loss=0.08094727247953415>\n",
      "round 58, metrics=<sparse_categorical_accuracy=0.971666693687439,loss=0.08491142839193344>\n",
      "round 59, metrics=<sparse_categorical_accuracy=0.9753333330154419,loss=0.07844076305627823>\n",
      "round 60, metrics=<sparse_categorical_accuracy=0.9735000133514404,loss=0.08171619474887848>\n",
      "round 61, metrics=<sparse_categorical_accuracy=0.9754999876022339,loss=0.0770455002784729>\n",
      "round 62, metrics=<sparse_categorical_accuracy=0.9741666913032532,loss=0.07895520329475403>\n",
      "round 63, metrics=<sparse_categorical_accuracy=0.9758333563804626,loss=0.07479888200759888>\n",
      "round 64, metrics=<sparse_categorical_accuracy=0.9750000238418579,loss=0.07611491531133652>\n",
      "round 65, metrics=<sparse_categorical_accuracy=0.9768333435058594,loss=0.07269775867462158>\n",
      "round 66, metrics=<sparse_categorical_accuracy=0.9758333563804626,loss=0.07345154136419296>\n",
      "round 67, metrics=<sparse_categorical_accuracy=0.9773333072662354,loss=0.0705297440290451>\n",
      "round 68, metrics=<sparse_categorical_accuracy=0.9761666655540466,loss=0.07095834612846375>\n",
      "round 69, metrics=<sparse_categorical_accuracy=0.9776666760444641,loss=0.06846494972705841>\n",
      "round 70, metrics=<sparse_categorical_accuracy=0.9775000214576721,loss=0.06864738464355469>\n",
      "round 71, metrics=<sparse_categorical_accuracy=0.9778333306312561,loss=0.06647338718175888>\n",
      "round 72, metrics=<sparse_categorical_accuracy=0.9785000085830688,loss=0.06654023379087448>\n",
      "round 73, metrics=<sparse_categorical_accuracy=0.9788333177566528,loss=0.06464157998561859>\n",
      "round 74, metrics=<sparse_categorical_accuracy=0.9793333411216736,loss=0.06462573260068893>\n",
      "round 75, metrics=<sparse_categorical_accuracy=0.9794999957084656,loss=0.06299639493227005>\n",
      "round 76, metrics=<sparse_categorical_accuracy=0.9800000190734863,loss=0.06287078559398651>\n",
      "round 77, metrics=<sparse_categorical_accuracy=0.9801666736602783,loss=0.06144925206899643>\n",
      "round 78, metrics=<sparse_categorical_accuracy=0.9810000061988831,loss=0.06123349070549011>\n",
      "round 79, metrics=<sparse_categorical_accuracy=0.9806666374206543,loss=0.05992382764816284>\n",
      "round 80, metrics=<sparse_categorical_accuracy=0.9819999933242798,loss=0.05969711020588875>\n",
      "round 81, metrics=<sparse_categorical_accuracy=0.981333315372467,loss=0.05845387652516365>\n",
      "round 82, metrics=<sparse_categorical_accuracy=0.9821666479110718,loss=0.058308426290750504>\n",
      "round 83, metrics=<sparse_categorical_accuracy=0.9823333621025085,loss=0.05702710524201393>\n",
      "round 84, metrics=<sparse_categorical_accuracy=0.9829999804496765,loss=0.05718737468123436>\n",
      "round 85, metrics=<sparse_categorical_accuracy=0.9819999933242798,loss=0.05582430958747864>\n",
      "round 86, metrics=<sparse_categorical_accuracy=0.9828333258628845,loss=0.05658244714140892>\n",
      "round 87, metrics=<sparse_categorical_accuracy=0.9816666841506958,loss=0.05504971370100975>\n",
      "round 88, metrics=<sparse_categorical_accuracy=0.9838333129882812,loss=0.05699602887034416>\n",
      "round 89, metrics=<sparse_categorical_accuracy=0.9810000061988831,loss=0.055563632398843765>\n",
      "round 90, metrics=<sparse_categorical_accuracy=0.9821666479110718,loss=0.0592203326523304>\n",
      "round 91, metrics=<sparse_categorical_accuracy=0.9796666502952576,loss=0.058456916362047195>\n",
      "round 92, metrics=<sparse_categorical_accuracy=0.981166660785675,loss=0.06175991892814636>\n",
      "round 93, metrics=<sparse_categorical_accuracy=0.9781666398048401,loss=0.061570972204208374>\n",
      "round 94, metrics=<sparse_categorical_accuracy=0.9818333387374878,loss=0.059906769543886185>\n",
      "round 95, metrics=<sparse_categorical_accuracy=0.9798333048820496,loss=0.0587606206536293>\n",
      "round 96, metrics=<sparse_categorical_accuracy=0.9825000166893005,loss=0.05601853132247925>\n",
      "round 97, metrics=<sparse_categorical_accuracy=0.9829999804496765,loss=0.054604992270469666>\n",
      "round 98, metrics=<sparse_categorical_accuracy=0.984000027179718,loss=0.05250885710120201>\n",
      "round 99, metrics=<sparse_categorical_accuracy=0.984333336353302,loss=0.05125439167022705>\n",
      "round 100, metrics=<sparse_categorical_accuracy=0.9848333597183228,loss=0.04983758181333542>\n",
      "round 101, metrics=<sparse_categorical_accuracy=0.9854999780654907,loss=0.048705585300922394>\n",
      "round 102, metrics=<sparse_categorical_accuracy=0.9856666922569275,loss=0.04783521592617035>\n",
      "round 103, metrics=<sparse_categorical_accuracy=0.9866666793823242,loss=0.046770405024290085>\n",
      "round 104, metrics=<sparse_categorical_accuracy=0.9865000247955322,loss=0.04641803354024887>\n",
      "round 105, metrics=<sparse_categorical_accuracy=0.9868333339691162,loss=0.04537583142518997>\n",
      "round 106, metrics=<sparse_categorical_accuracy=0.9871666431427002,loss=0.0455370731651783>\n",
      "round 107, metrics=<sparse_categorical_accuracy=0.987333357334137,loss=0.044381383806467056>\n",
      "round 108, metrics=<sparse_categorical_accuracy=0.9871666431427002,loss=0.04514595866203308>\n",
      "round 109, metrics=<sparse_categorical_accuracy=0.987666666507721,loss=0.04382912442088127>\n",
      "round 110, metrics=<sparse_categorical_accuracy=0.9861666560173035,loss=0.04540621489286423>\n",
      "round 111, metrics=<sparse_categorical_accuracy=0.9871666431427002,loss=0.04394182190299034>\n",
      "round 112, metrics=<sparse_categorical_accuracy=0.9858333468437195,loss=0.04689301177859306>\n",
      "round 113, metrics=<sparse_categorical_accuracy=0.9863333106040955,loss=0.045478858053684235>\n",
      "round 114, metrics=<sparse_categorical_accuracy=0.9853333234786987,loss=0.051136285066604614>\n",
      "round 115, metrics=<sparse_categorical_accuracy=0.984333336353302,loss=0.049747973680496216>\n",
      "round 116, metrics=<sparse_categorical_accuracy=0.9810000061988831,loss=0.06063297390937805>\n",
      "round 117, metrics=<sparse_categorical_accuracy=0.9815000295639038,loss=0.05530063807964325>\n",
      "round 118, metrics=<sparse_categorical_accuracy=0.9789999723434448,loss=0.06825515627861023>\n",
      "round 119, metrics=<sparse_categorical_accuracy=0.9833333492279053,loss=0.05248444899916649>\n",
      "round 120, metrics=<sparse_categorical_accuracy=0.9829999804496765,loss=0.05745512992143631>\n",
      "round 121, metrics=<sparse_categorical_accuracy=0.9861666560173035,loss=0.04468896985054016>\n",
      "round 122, metrics=<sparse_categorical_accuracy=0.9866666793823242,loss=0.04607449844479561>\n",
      "round 123, metrics=<sparse_categorical_accuracy=0.9891666769981384,loss=0.0395996980369091>\n",
      "round 124, metrics=<sparse_categorical_accuracy=0.9881666898727417,loss=0.040303170680999756>\n",
      "round 125, metrics=<sparse_categorical_accuracy=0.9904999732971191,loss=0.03729550912976265>\n",
      "round 126, metrics=<sparse_categorical_accuracy=0.9896666407585144,loss=0.03781373053789139>\n",
      "round 127, metrics=<sparse_categorical_accuracy=0.9904999732971191,loss=0.0361970029771328>\n",
      "round 128, metrics=<sparse_categorical_accuracy=0.9903333187103271,loss=0.03654890134930611>\n",
      "round 129, metrics=<sparse_categorical_accuracy=0.9908333420753479,loss=0.035493362694978714>\n",
      "round 130, metrics=<sparse_categorical_accuracy=0.9904999732971191,loss=0.03572579845786095>\n",
      "round 131, metrics=<sparse_categorical_accuracy=0.9909999966621399,loss=0.03492613881826401>\n",
      "round 132, metrics=<sparse_categorical_accuracy=0.9904999732971191,loss=0.035082489252090454>\n",
      "round 133, metrics=<sparse_categorical_accuracy=0.9909999966621399,loss=0.03442008048295975>\n",
      "round 134, metrics=<sparse_categorical_accuracy=0.9904999732971191,loss=0.03453637287020683>\n",
      "round 135, metrics=<sparse_categorical_accuracy=0.9909999966621399,loss=0.03394941985607147>\n",
      "round 136, metrics=<sparse_categorical_accuracy=0.9906666874885559,loss=0.03405803069472313>\n",
      "round 137, metrics=<sparse_categorical_accuracy=0.9908333420753479,loss=0.033513545989990234>\n",
      "round 138, metrics=<sparse_categorical_accuracy=0.9909999966621399,loss=0.03362525999546051>\n",
      "round 139, metrics=<sparse_categorical_accuracy=0.9909999966621399,loss=0.03309720382094383>\n",
      "round 140, metrics=<sparse_categorical_accuracy=0.9908333420753479,loss=0.033237528055906296>\n",
      "round 141, metrics=<sparse_categorical_accuracy=0.9909999966621399,loss=0.03271611034870148>\n",
      "round 142, metrics=<sparse_categorical_accuracy=0.9908333420753479,loss=0.03290216997265816>\n",
      "round 143, metrics=<sparse_categorical_accuracy=0.9913333058357239,loss=0.032375939190387726>\n",
      "round 144, metrics=<sparse_categorical_accuracy=0.9906666874885559,loss=0.03262166678905487>\n",
      "round 145, metrics=<sparse_categorical_accuracy=0.9916666746139526,loss=0.032084885984659195>\n",
      "round 146, metrics=<sparse_categorical_accuracy=0.9908333420753479,loss=0.03242883086204529>\n",
      "round 147, metrics=<sparse_categorical_accuracy=0.9921666383743286,loss=0.03187963739037514>\n",
      "round 148, metrics=<sparse_categorical_accuracy=0.9911666512489319,loss=0.032344456762075424>\n",
      "round 149, metrics=<sparse_categorical_accuracy=0.9921666383743286,loss=0.03179914504289627>\n",
      "round 150, metrics=<sparse_categorical_accuracy=0.9909999966621399,loss=0.03244171664118767>\n",
      "round 151, metrics=<sparse_categorical_accuracy=0.9916666746139526,loss=0.031908001750707626>\n",
      "round 152, metrics=<sparse_categorical_accuracy=0.9903333187103271,loss=0.03280375152826309>\n",
      "round 153, metrics=<sparse_categorical_accuracy=0.9915000200271606,loss=0.032360877841711044>\n",
      "round 154, metrics=<sparse_categorical_accuracy=0.9903333187103271,loss=0.03366907313466072>\n",
      "round 155, metrics=<sparse_categorical_accuracy=0.9903333187103271,loss=0.03339008241891861>\n",
      "round 156, metrics=<sparse_categorical_accuracy=0.9891666769981384,loss=0.035385724157094955>\n",
      "round 157, metrics=<sparse_categorical_accuracy=0.9893333315849304,loss=0.03548150137066841>\n",
      "round 158, metrics=<sparse_categorical_accuracy=0.9879999756813049,loss=0.03889133408665657>\n",
      "round 159, metrics=<sparse_categorical_accuracy=0.9869999885559082,loss=0.03965117037296295>\n",
      "round 160, metrics=<sparse_categorical_accuracy=0.984666645526886,loss=0.04620474576950073>\n",
      "round 161, metrics=<sparse_categorical_accuracy=0.984333336353302,loss=0.04566879943013191>\n",
      "round 162, metrics=<sparse_categorical_accuracy=0.9821666479110718,loss=0.05477699264883995>\n",
      "round 163, metrics=<sparse_categorical_accuracy=0.9853333234786987,loss=0.04582255706191063>\n",
      "round 164, metrics=<sparse_categorical_accuracy=0.9823333621025085,loss=0.049819279462099075>\n",
      "round 165, metrics=<sparse_categorical_accuracy=0.9848333597183228,loss=0.044789787381887436>\n",
      "round 166, metrics=<sparse_categorical_accuracy=0.9833333492279053,loss=0.04864145815372467>\n",
      "round 167, metrics=<sparse_categorical_accuracy=0.984499990940094,loss=0.04379887133836746>\n",
      "round 168, metrics=<sparse_categorical_accuracy=0.98416668176651,loss=0.04833007976412773>\n",
      "round 169, metrics=<sparse_categorical_accuracy=0.9856666922569275,loss=0.04144011065363884>\n",
      "round 170, metrics=<sparse_categorical_accuracy=0.9858333468437195,loss=0.043871235102415085>\n",
      "round 171, metrics=<sparse_categorical_accuracy=0.9883333444595337,loss=0.03730887547135353>\n",
      "round 172, metrics=<sparse_categorical_accuracy=0.9890000224113464,loss=0.03688153624534607>\n",
      "round 173, metrics=<sparse_categorical_accuracy=0.9901666641235352,loss=0.032896995544433594>\n",
      "round 174, metrics=<sparse_categorical_accuracy=0.9898333549499512,loss=0.0319896936416626>\n",
      "round 175, metrics=<sparse_categorical_accuracy=0.9906666874885559,loss=0.030137771740555763>\n",
      "round 176, metrics=<sparse_categorical_accuracy=0.9909999966621399,loss=0.02964583784341812>\n",
      "round 177, metrics=<sparse_categorical_accuracy=0.9916666746139526,loss=0.02876115031540394>\n",
      "round 178, metrics=<sparse_categorical_accuracy=0.9919999837875366,loss=0.028493985533714294>\n",
      "round 179, metrics=<sparse_categorical_accuracy=0.9918333292007446,loss=0.027982112020254135>\n",
      "round 180, metrics=<sparse_categorical_accuracy=0.9918333292007446,loss=0.02780626155436039>\n",
      "round 181, metrics=<sparse_categorical_accuracy=0.9918333292007446,loss=0.027451977133750916>\n",
      "round 182, metrics=<sparse_categorical_accuracy=0.9918333292007446,loss=0.027309603989124298>\n",
      "round 183, metrics=<sparse_categorical_accuracy=0.9921666383743286,loss=0.027027102187275887>\n",
      "round 184, metrics=<sparse_categorical_accuracy=0.9923333525657654,loss=0.02690284140408039>\n",
      "round 185, metrics=<sparse_categorical_accuracy=0.9923333525657654,loss=0.026657449081540108>\n",
      "round 186, metrics=<sparse_categorical_accuracy=0.9926666617393494,loss=0.026553209871053696>\n",
      "round 187, metrics=<sparse_categorical_accuracy=0.9923333525657654,loss=0.026320351287722588>\n",
      "round 188, metrics=<sparse_categorical_accuracy=0.9926666617393494,loss=0.026232067495584488>\n",
      "round 189, metrics=<sparse_categorical_accuracy=0.9925000071525574,loss=0.026005342602729797>\n",
      "round 190, metrics=<sparse_categorical_accuracy=0.9928333163261414,loss=0.025928577408194542>\n",
      "round 191, metrics=<sparse_categorical_accuracy=0.9925000071525574,loss=0.02571413666009903>\n",
      "round 192, metrics=<sparse_categorical_accuracy=0.9928333163261414,loss=0.025657230988144875>\n",
      "round 193, metrics=<sparse_categorical_accuracy=0.9925000071525574,loss=0.025441905483603477>\n",
      "round 194, metrics=<sparse_categorical_accuracy=0.9928333163261414,loss=0.025399060919880867>\n",
      "round 195, metrics=<sparse_categorical_accuracy=0.9925000071525574,loss=0.02518521435558796>\n",
      "round 196, metrics=<sparse_categorical_accuracy=0.9926666617393494,loss=0.025169990956783295>\n",
      "round 197, metrics=<sparse_categorical_accuracy=0.9925000071525574,loss=0.024955961853265762>\n",
      "round 198, metrics=<sparse_categorical_accuracy=0.9925000071525574,loss=0.024982230737805367>\n",
      "round 199, metrics=<sparse_categorical_accuracy=0.9925000071525574,loss=0.024752072989940643>\n"
     ]
    }
   ],
   "source": [
    "NUM_ROUNDS = 200\n",
    "for round_num in range(2, NUM_ROUNDS):\n",
    "  state, metrics = iterative_process.next(state, federated_train_data)\n",
    "  print('round {:2d}, metrics={}'.format(round_num, metrics))"
   ]
  },
  {
   "cell_type": "code",
   "execution_count": null,
   "metadata": {},
   "outputs": [],
   "source": []
  }
 ],
 "metadata": {
  "kernelspec": {
   "display_name": "Python 3",
   "language": "python",
   "name": "python3"
  },
  "language_info": {
   "codemirror_mode": {
    "name": "ipython",
    "version": 3
   },
   "file_extension": ".py",
   "mimetype": "text/x-python",
   "name": "python",
   "nbconvert_exporter": "python",
   "pygments_lexer": "ipython3",
   "version": "3.6.7"
  }
 },
 "nbformat": 4,
 "nbformat_minor": 4
}
