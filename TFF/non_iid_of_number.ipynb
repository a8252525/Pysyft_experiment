{
 "cells": [
  {
   "cell_type": "code",
   "execution_count": 1,
   "metadata": {},
   "outputs": [],
   "source": [
    "#@title Licensed under the Apache License, Version 2.0 (the \"License\");\n",
    "# you may not use this file except in compliance with the License.\n",
    "# You may obtain a copy of the License at\n",
    "#\n",
    "# https://www.apache.org/licenses/LICENSE-2.0\n",
    "#\n",
    "# Unless required by applicable law or agreed to in writing, software\n",
    "# distributed under the License is distributed on an \"AS IS\" BASIS,\n",
    "# WITHOUT WARRANTIES OR CONDITIONS OF ANY KIND, either express or implied.\n",
    "# See the License for the specific language governing permissions and\n",
    "# limitations under the License."
   ]
  },
  {
   "cell_type": "code",
   "execution_count": 2,
   "metadata": {},
   "outputs": [
    {
     "data": {
      "text/plain": [
       "b'Hello, World!'"
      ]
     },
     "execution_count": 2,
     "metadata": {},
     "output_type": "execute_result"
    }
   ],
   "source": [
    "import collections\n",
    "\n",
    "import numpy as np\n",
    "import tensorflow as tf\n",
    "import tensorflow_federated as tff\n",
    "\n",
    "tf.compat.v1.enable_v2_behavior()\n",
    "\n",
    "np.random.seed(0)\n",
    "\n",
    "tff.federated_computation(lambda: 'Hello, World!')()"
   ]
  },
  {
   "cell_type": "code",
   "execution_count": 3,
   "metadata": {},
   "outputs": [],
   "source": [
    "emnist_train, emnist_test = tf.keras.datasets.mnist.load_data()"
   ]
  },
  {
   "cell_type": "code",
   "execution_count": 4,
   "metadata": {},
   "outputs": [
    {
     "ename": "AttributeError",
     "evalue": "'tuple' object has no attribute 'client_ids'",
     "output_type": "error",
     "traceback": [
      "\u001b[0;31m---------------------------------------------------------------------------\u001b[0m",
      "\u001b[0;31mAttributeError\u001b[0m                            Traceback (most recent call last)",
      "\u001b[0;32m<ipython-input-4-bc83f94123a6>\u001b[0m in \u001b[0;36m<module>\u001b[0;34m\u001b[0m\n\u001b[0;32m----> 1\u001b[0;31m \u001b[0memnist_train\u001b[0m\u001b[0;34m.\u001b[0m\u001b[0mclient_ids\u001b[0m\u001b[0;34m[\u001b[0m\u001b[0;34m:\u001b[0m\u001b[0;36m10\u001b[0m\u001b[0;34m]\u001b[0m\u001b[0;34m\u001b[0m\u001b[0;34m\u001b[0m\u001b[0m\n\u001b[0m",
      "\u001b[0;31mAttributeError\u001b[0m: 'tuple' object has no attribute 'client_ids'"
     ]
    }
   ],
   "source": [
    "emnist_train.client_ids[:10]"
   ]
  },
  {
   "cell_type": "code",
   "execution_count": null,
   "metadata": {},
   "outputs": [],
   "source": [
    "emnist_train.element_type_structure"
   ]
  },
  {
   "cell_type": "code",
   "execution_count": null,
   "metadata": {},
   "outputs": [],
   "source": [
    "example_dataset = emnist_train.create_tf_dataset_for_client(\n",
    "    emnist_train.client_ids[0])\n",
    "\n",
    "example_element = next(iter(example_dataset))\n",
    "\n",
    "example_element['pixels'].numpy().shape"
   ]
  },
  {
   "cell_type": "code",
   "execution_count": null,
   "metadata": {},
   "outputs": [],
   "source": [
    "%matplotlib inline\n",
    "from matplotlib import pyplot as plt\n",
    "plt.imshow(example_element['pixels'].numpy(), cmap='gray', aspect='equal')\n",
    "plt.grid(False)\n",
    "plt.show()"
   ]
  },
  {
   "cell_type": "code",
   "execution_count": 5,
   "metadata": {},
   "outputs": [
    {
     "name": "stderr",
     "output_type": "stream",
     "text": [
      "100%|██████████| 10/10 [00:58<00:00,  5.84s/it]\n",
      "100%|██████████| 10/10 [00:59<00:00,  5.96s/it]\n",
      "100%|██████████| 10/10 [01:06<00:00,  6.65s/it]\n",
      "100%|██████████| 10/10 [01:07<00:00,  6.79s/it]\n",
      "100%|██████████| 10/10 [01:06<00:00,  6.64s/it]\n",
      "100%|██████████| 10/10 [01:08<00:00,  6.82s/it]\n",
      "100%|██████████| 10/10 [01:05<00:00,  6.50s/it]\n",
      "100%|██████████| 10/10 [01:07<00:00,  6.76s/it]\n",
      "100%|██████████| 10/10 [01:02<00:00,  6.29s/it]\n",
      "100%|██████████| 10/10 [01:02<00:00,  6.22s/it]\n",
      "100%|██████████| 10/10 [01:02<00:00,  6.25s/it]\n",
      "100%|██████████| 10/10 [00:58<00:00,  5.87s/it]\n",
      "100%|██████████| 10/10 [01:00<00:00,  6.07s/it]\n",
      "100%|██████████| 10/10 [01:02<00:00,  6.30s/it]\n",
      "100%|██████████| 10/10 [01:06<00:00,  6.62s/it]\n",
      "100%|██████████| 10/10 [01:05<00:00,  6.53s/it]\n",
      "100%|██████████| 10/10 [01:03<00:00,  6.40s/it]\n",
      "100%|██████████| 10/10 [01:01<00:00,  6.19s/it]\n",
      "100%|██████████| 10/10 [00:58<00:00,  5.90s/it]\n",
      "100%|██████████| 10/10 [00:58<00:00,  5.85s/it]\n"
     ]
    }
   ],
   "source": [
    "# NUM_CLIENTS = 20\n",
    "# NUM_EPOCHS = 5\n",
    "# BATCH_SIZE = 64\n",
    "# SHUFFLE_BUFFER = 100\n",
    "# PREFETCH_BUFFER=10\n",
    "\n",
    "# def preprocess(dataset):\n",
    "\n",
    "#   def batch_format_fn(element):\n",
    "#     \"\"\"Flatten a batch `pixels` and return the features as an `OrderedDict`.\"\"\"\n",
    "#     return collections.OrderedDict(\n",
    "#         x=tf.reshape(element['pixels'],[-1, 28,28,1]),#tf.reshape(element['pixels'], [-1, 784]),\n",
    "#         y=tf.reshape(element['label'], [-1, 1]))\n",
    "\n",
    "#   return dataset.repeat(NUM_EPOCHS).shuffle(SHUFFLE_BUFFER).batch(\n",
    "#       BATCH_SIZE).map(batch_format_fn).prefetch(PREFETCH_BUFFER)\n",
    "NUM_EXAMPLES_PER_USER = 600\n",
    "B = 10\n",
    "BATCH_SIZE = NUM_EXAMPLES_PER_USER//B\n",
    "EPOCHS = 20\n",
    "NUMBER_OF_CLIENTS = 10\n",
    "\n",
    "from tqdm import tqdm\n",
    "\n",
    "def get_data_for_digit(source, digit):\n",
    "  output_sequence = []\n",
    "  all_samples = [i for i, d in enumerate(source[1]) if d == digit]\n",
    "  for i in tqdm(range(0, min(len(all_samples), NUM_EXAMPLES_PER_USER), BATCH_SIZE)):\n",
    "    batch_samples = all_samples[i:i + BATCH_SIZE]\n",
    "    output_sequence.append({\n",
    "        'x':\n",
    "            np.array([tf.reshape(source[0][i],[28,28,1]) for i in batch_samples],\n",
    "                     dtype=np.float32),\n",
    "        'y':\n",
    "            np.array([tf.reshape(source[1][i], [1]) for i in batch_samples], dtype=np.int32)\n",
    "    })\n",
    "  return output_sequence\n",
    "\n",
    "\n",
    "federated_train_data = [get_data_for_digit(emnist_train, d) for d in range(NUMBER_OF_CLIENTS)] * EPOCHS\n",
    "\n",
    "federated_test_data = [get_data_for_digit(emnist_test, d) for d in range(NUMBER_OF_CLIENTS)]\n"
   ]
  },
  {
   "cell_type": "code",
   "execution_count": 6,
   "metadata": {},
   "outputs": [
    {
     "ename": "NameError",
     "evalue": "name 'preprocess' is not defined",
     "output_type": "error",
     "traceback": [
      "\u001b[0;31m---------------------------------------------------------------------------\u001b[0m",
      "\u001b[0;31mNameError\u001b[0m                                 Traceback (most recent call last)",
      "\u001b[0;32m<ipython-input-6-fb81508a3632>\u001b[0m in \u001b[0;36m<module>\u001b[0;34m\u001b[0m\n\u001b[0;32m----> 1\u001b[0;31m \u001b[0mpreprocessed_example_dataset\u001b[0m \u001b[0;34m=\u001b[0m \u001b[0mpreprocess\u001b[0m\u001b[0;34m(\u001b[0m\u001b[0mexample_dataset\u001b[0m\u001b[0;34m)\u001b[0m\u001b[0;34m\u001b[0m\u001b[0;34m\u001b[0m\u001b[0m\n\u001b[0m\u001b[1;32m      2\u001b[0m \u001b[0mpreprocessed_example_dataset\u001b[0m\u001b[0;34m\u001b[0m\u001b[0;34m\u001b[0m\u001b[0m\n\u001b[1;32m      3\u001b[0m sample_batch = tf.nest.map_structure(lambda x: x.numpy(),\n\u001b[1;32m      4\u001b[0m                                      next(iter(preprocessed_example_dataset)))\n\u001b[1;32m      5\u001b[0m \u001b[0msample_batch\u001b[0m\u001b[0;34m[\u001b[0m\u001b[0;34m'y'\u001b[0m\u001b[0;34m]\u001b[0m\u001b[0;34m.\u001b[0m\u001b[0mshape\u001b[0m\u001b[0;34m\u001b[0m\u001b[0;34m\u001b[0m\u001b[0m\n",
      "\u001b[0;31mNameError\u001b[0m: name 'preprocess' is not defined"
     ]
    }
   ],
   "source": [
    "preprocessed_example_dataset = preprocess(example_dataset)\n",
    "preprocessed_example_dataset\n",
    "sample_batch = tf.nest.map_structure(lambda x: x.numpy(),\n",
    "                                     next(iter(preprocessed_example_dataset)))\n",
    "sample_batch['y'].shape\n"
   ]
  },
  {
   "cell_type": "code",
   "execution_count": null,
   "metadata": {},
   "outputs": [],
   "source": [
    "# def make_federated_data(client_data, client_ids):\n",
    "#   return [\n",
    "#       preprocess(client_data.create_tf_dataset_for_client(x))\n",
    "#       for x in client_ids\n",
    "#   ]"
   ]
  },
  {
   "cell_type": "code",
   "execution_count": 7,
   "metadata": {},
   "outputs": [
    {
     "name": "stdout",
     "output_type": "stream",
     "text": [
      "x shape: (60, 28, 28, 1)\n",
      "y shape: (60, 1)\n"
     ]
    }
   ],
   "source": [
    "#next(iter(preprocess(emnist_train.create_tf_dataset_for_client('f0000_14'))))\n",
    "print(\"x shape:\",federated_train_data[0][0]['x'].shape)\n",
    "print(\"y shape:\", federated_train_data[0][0]['y'].shape)\n"
   ]
  },
  {
   "cell_type": "code",
   "execution_count": 8,
   "metadata": {},
   "outputs": [
    {
     "data": {
      "text/plain": [
       "tuple"
      ]
     },
     "execution_count": 8,
     "metadata": {},
     "output_type": "execute_result"
    }
   ],
   "source": [
    "type(emnist_train)"
   ]
  },
  {
   "cell_type": "code",
   "execution_count": 9,
   "metadata": {},
   "outputs": [],
   "source": [
    "#sample_clients = emnist_train.client_ids[0:NUM_CLIENTS]\n",
    "\n",
    "#federated_train_data = make_federated_data(emnist_train, sample_clients)\n",
    "\n",
    "# print('Number of client datasets: {l}'.format(l=len(federated_train_data)))\n",
    "# print('First dataset: {d}'.format(d=federated_train_data[0]))\n",
    "# print('Second dataset: {d}'.format(d=federated_train_data[1]))"
   ]
  },
  {
   "cell_type": "code",
   "execution_count": 10,
   "metadata": {},
   "outputs": [],
   "source": [
    "def create_keras_model():\n",
    "  return tf.keras.models.Sequential([\n",
    "      tf.keras.layers.Input(shape = (28,28,1)),\n",
    "      tf.keras.layers.Conv2D(filters = 32, kernel_size = (5,5), activation = 'relu'),\n",
    "      tf.keras.layers.MaxPool2D(),\n",
    "      tf.keras.layers.Conv2D(filters = 64, kernel_size = (5,5), activation = 'relu'),\n",
    "      tf.keras.layers.MaxPool2D(),\n",
    "      tf.keras.layers.Flatten(),\n",
    "      tf.keras.layers.Dense(512, activation = 'relu'),\n",
    "      tf.keras.layers.Dense(10),\n",
    "      tf.keras.layers.Softmax(),\n",
    "  ])\n",
    "\n",
    "#       tf.keras.layers.Input(shape=(784,)),\n",
    "#       tf.keras.layers.Dense(10, kernel_initializer='zeros'),\n",
    "#       tf.keras.layers.Softmax(),"
   ]
  },
  {
   "cell_type": "code",
   "execution_count": 11,
   "metadata": {},
   "outputs": [],
   "source": [
    "input_spec = collections.OrderedDict(([('x',\n",
    "              tf.TensorSpec(shape=(None, 28, 28, 1), dtype=tf.float32, name=None)),\n",
    "             ('y', tf.TensorSpec(shape=(None, 1), dtype=tf.int32, name=None))]))\n",
    "def model_fn():\n",
    "  # We _must_ create a new model here, and _not_ capture it from an external\n",
    "  # scope. TFF will call this within different graph contexts.\n",
    "  keras_model = create_keras_model()\n",
    "  return tff.learning.from_keras_model(\n",
    "      keras_model,\n",
    "      input_spec=input_spec,\n",
    "      loss=tf.keras.losses.SparseCategoricalCrossentropy(),\n",
    "      metrics=[tf.keras.metrics.SparseCategoricalAccuracy()])\n"
   ]
  },
  {
   "cell_type": "code",
   "execution_count": 12,
   "metadata": {},
   "outputs": [
    {
     "name": "stdout",
     "output_type": "stream",
     "text": [
      "Model: \"sequential\"\n",
      "_________________________________________________________________\n",
      "Layer (type)                 Output Shape              Param #   \n",
      "=================================================================\n",
      "conv2d (Conv2D)              (None, 24, 24, 32)        832       \n",
      "_________________________________________________________________\n",
      "max_pooling2d (MaxPooling2D) (None, 12, 12, 32)        0         \n",
      "_________________________________________________________________\n",
      "conv2d_1 (Conv2D)            (None, 8, 8, 64)          51264     \n",
      "_________________________________________________________________\n",
      "max_pooling2d_1 (MaxPooling2 (None, 4, 4, 64)          0         \n",
      "_________________________________________________________________\n",
      "flatten (Flatten)            (None, 1024)              0         \n",
      "_________________________________________________________________\n",
      "dense (Dense)                (None, 512)               524800    \n",
      "_________________________________________________________________\n",
      "dense_1 (Dense)              (None, 10)                5130      \n",
      "_________________________________________________________________\n",
      "softmax (Softmax)            (None, 10)                0         \n",
      "=================================================================\n",
      "Total params: 582,026\n",
      "Trainable params: 582,026\n",
      "Non-trainable params: 0\n",
      "_________________________________________________________________\n"
     ]
    }
   ],
   "source": [
    "keras_model = create_keras_model()\n",
    "keras_model.summary()"
   ]
  },
  {
   "cell_type": "code",
   "execution_count": 13,
   "metadata": {},
   "outputs": [
    {
     "name": "stdout",
     "output_type": "stream",
     "text": [
      "WARNING:tensorflow:From /opt/conda/lib/python3.6/site-packages/tensorflow/python/ops/resource_variable_ops.py:1666: calling BaseResourceVariable.__init__ (from tensorflow.python.ops.resource_variable_ops) with constraint is deprecated and will be removed in a future version.\n",
      "Instructions for updating:\n",
      "If using Keras pass *_constraint arguments to layers.\n"
     ]
    },
    {
     "name": "stderr",
     "output_type": "stream",
     "text": [
      "WARNING:tensorflow:From /opt/conda/lib/python3.6/site-packages/tensorflow/python/ops/resource_variable_ops.py:1666: calling BaseResourceVariable.__init__ (from tensorflow.python.ops.resource_variable_ops) with constraint is deprecated and will be removed in a future version.\n",
      "Instructions for updating:\n",
      "If using Keras pass *_constraint arguments to layers.\n"
     ]
    }
   ],
   "source": [
    "iterative_process = tff.learning.build_federated_averaging_process(\n",
    "    model_fn,\n",
    "    client_optimizer_fn=lambda: tf.keras.optimizers.SGD(learning_rate=0.02),\n",
    "    server_optimizer_fn=lambda: tf.keras.optimizers.SGD(learning_rate=1.0))"
   ]
  },
  {
   "cell_type": "code",
   "execution_count": 14,
   "metadata": {},
   "outputs": [
    {
     "data": {
      "text/plain": [
       "'( -> <model=<trainable=<float32[5,5,1,32],float32[32],float32[5,5,32,64],float32[64],float32[1024,512],float32[512],float32[512,10],float32[10]>,non_trainable=<>>,optimizer_state=<int64>,delta_aggregate_state=<>,model_broadcast_state=<>>@SERVER)'"
      ]
     },
     "execution_count": 14,
     "metadata": {},
     "output_type": "execute_result"
    }
   ],
   "source": [
    "str(iterative_process.initialize.type_signature)"
   ]
  },
  {
   "cell_type": "code",
   "execution_count": 18,
   "metadata": {},
   "outputs": [],
   "source": [
    "state = iterative_process.initialize()"
   ]
  },
  {
   "cell_type": "code",
   "execution_count": 19,
   "metadata": {},
   "outputs": [
    {
     "name": "stdout",
     "output_type": "stream",
     "text": [
      "round  1, metrics=<sparse_categorical_accuracy=0.9101666808128357,loss=1.3846499919891357>\n"
     ]
    }
   ],
   "source": [
    "state, metrics = iterative_process.next(state, federated_train_data)\n",
    "print('round  1, metrics={}'.format(metrics))"
   ]
  },
  {
   "cell_type": "code",
   "execution_count": 20,
   "metadata": {},
   "outputs": [
    {
     "name": "stdout",
     "output_type": "stream",
     "text": [
      "round  2, metrics=<sparse_categorical_accuracy=0.9100000262260437,loss=1.4506289958953857>\n",
      "round  3, metrics=<sparse_categorical_accuracy=0.9100000262260437,loss=1.4507014751434326>\n",
      "round  4, metrics=<sparse_categorical_accuracy=0.8688333630561829,loss=2.1104111671447754>\n",
      "round  5, metrics=<sparse_categorical_accuracy=0.9100000262260437,loss=1.4506289958953857>\n",
      "round  6, metrics=<sparse_categorical_accuracy=0.7300000190734863,loss=4.456384181976318>\n",
      "round  7, metrics=<sparse_categorical_accuracy=0.800000011920929,loss=2.1794047355651855>\n",
      "round  8, metrics=<sparse_categorical_accuracy=0.7799999713897705,loss=2.165113925933838>\n",
      "round  9, metrics=<sparse_categorical_accuracy=0.7599999904632568,loss=2.159249782562256>\n",
      "round 10, metrics=<sparse_categorical_accuracy=0.75,loss=2.1557528972625732>\n",
      "round 11, metrics=<sparse_categorical_accuracy=0.7599999904632568,loss=2.153193235397339>\n",
      "round 12, metrics=<sparse_categorical_accuracy=0.75,loss=2.152134418487549>\n",
      "round 13, metrics=<sparse_categorical_accuracy=0.75,loss=2.150747299194336>\n",
      "round 14, metrics=<sparse_categorical_accuracy=0.7699999809265137,loss=2.1494500637054443>\n",
      "round 15, metrics=<sparse_categorical_accuracy=0.7900000214576721,loss=2.148207426071167>\n",
      "round 16, metrics=<sparse_categorical_accuracy=0.7900000214576721,loss=2.1469974517822266>\n",
      "round 17, metrics=<sparse_categorical_accuracy=0.7900000214576721,loss=2.14581298828125>\n",
      "round 18, metrics=<sparse_categorical_accuracy=0.7900000214576721,loss=2.1446402072906494>\n",
      "round 19, metrics=<sparse_categorical_accuracy=0.7900000214576721,loss=2.1434783935546875>\n"
     ]
    }
   ],
   "source": [
    "NUM_ROUNDS = 20\n",
    "for round_num in range(2, NUM_ROUNDS):\n",
    "  state, metrics = iterative_process.next(state, federated_train_data)\n",
    "  print('round {:2d}, metrics={}'.format(round_num, metrics))"
   ]
  },
  {
   "cell_type": "code",
   "execution_count": null,
   "metadata": {},
   "outputs": [],
   "source": []
  }
 ],
 "metadata": {
  "kernelspec": {
   "display_name": "Python 3",
   "language": "python",
   "name": "python3"
  },
  "language_info": {
   "codemirror_mode": {
    "name": "ipython",
    "version": 3
   },
   "file_extension": ".py",
   "mimetype": "text/x-python",
   "name": "python",
   "nbconvert_exporter": "python",
   "pygments_lexer": "ipython3",
   "version": "3.6.7"
  }
 },
 "nbformat": 4,
 "nbformat_minor": 4
}
