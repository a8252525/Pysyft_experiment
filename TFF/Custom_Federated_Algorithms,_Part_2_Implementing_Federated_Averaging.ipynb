{
 "cells": [
  {
   "cell_type": "markdown",
   "metadata": {
    "colab_type": "text",
    "id": "tqrD7Yzlmlsk"
   },
   "source": [
    "##### Copyright 2019 The TensorFlow Authors."
   ]
  },
  {
   "cell_type": "code",
   "execution_count": 1,
   "metadata": {
    "cellView": "form",
    "colab": {},
    "colab_type": "code",
    "id": "2k8X1C1nmpKv"
   },
   "outputs": [],
   "source": [
    "#@title Licensed under the Apache License, Version 2.0 (the \"License\");\n",
    "# you may not use this file except in compliance with the License.\n",
    "# You may obtain a copy of the License at\n",
    "#\n",
    "# https://www.apache.org/licenses/LICENSE-2.0\n",
    "#\n",
    "# Unless required by applicable law or agreed to in writing, software\n",
    "# distributed under the License is distributed on an \"AS IS\" BASIS,\n",
    "# WITHOUT WARRANTIES OR CONDITIONS OF ANY KIND, either express or implied.\n",
    "# See the License for the specific language governing permissions and\n",
    "# limitations under the License."
   ]
  },
  {
   "cell_type": "markdown",
   "metadata": {
    "colab_type": "text",
    "id": "32xflLc4NTx-"
   },
   "source": [
    "# Custom Federated Algorithms, Part 2: Implementing Federated Averaging"
   ]
  },
  {
   "cell_type": "markdown",
   "metadata": {
    "colab_type": "text",
    "id": "jtATV6DlqPs0"
   },
   "source": [
    "<table class=\"tfo-notebook-buttons\" align=\"left\">\n",
    "  <td>\n",
    "    <a target=\"_blank\" href=\"https://www.tensorflow.org/federated/tutorials/custom_federated_algorithms_2\"><img src=\"https://www.tensorflow.org/images/tf_logo_32px.png\" />View on TensorFlow.org</a>\n",
    "  </td>\n",
    "  <td>\n",
    "    <a target=\"_blank\" href=\"https://colab.research.google.com/github/tensorflow/federated/blob/v0.14.0/docs/tutorials/custom_federated_algorithms_2.ipynb\"><img src=\"https://www.tensorflow.org/images/colab_logo_32px.png\" />Run in Google Colab</a>\n",
    "  </td>\n",
    "  <td>\n",
    "    <a target=\"_blank\" href=\"https://github.com/tensorflow/federated/blob/v0.14.0/docs/tutorials/custom_federated_algorithms_2.ipynb\"><img src=\"https://www.tensorflow.org/images/GitHub-Mark-32px.png\" />View source on GitHub</a>\n",
    "  </td>\n",
    "</table>"
   ]
  },
  {
   "cell_type": "markdown",
   "metadata": {
    "colab_type": "text",
    "id": "_igJ2sfaNWS8"
   },
   "source": [
    "This tutorial is the second part of a two-part series that demonstrates how to\n",
    "implement custom types of federated algorithms in TFF using the\n",
    "[Federated Core (FC)](../federated_core.md), which serves as a foundation for\n",
    "the [Federated Learning (FL)](../federated_learning.md) layer (`tff.learning`).\n",
    "\n",
    "We encourage you to first read the\n",
    "[first part of this series](custom_federated_algorithms_1.ipynb), which\n",
    "introduce some of the key concepts and programming abstractions used here.\n",
    "\n",
    "This second part of the series uses the mechanisms introduced in the first part\n",
    "to implement a simple version of federated training and evaluation algorithms.\n",
    "\n",
    "We encourage you to review the\n",
    "[image classification](federated_learning_for_image_classification.ipynb) and\n",
    "[text generation](federated_learning_for_text_generation.ipynb) tutorials for a\n",
    "higher-level and more gentle introduction to TFF's Federated Learning APIs, as\n",
    "they will help you put the concepts we describe here in context."
   ]
  },
  {
   "cell_type": "markdown",
   "metadata": {
    "colab_type": "text",
    "id": "cuJuLEh2TfZG"
   },
   "source": [
    "## Before we start\n",
    "\n",
    "Before we start, try to run the following \"Hello World\" example to make sure\n",
    "your environment is correctly setup. If it doesn't work, please refer to the\n",
    "[Installation](../install.md) guide for instructions."
   ]
  },
  {
   "cell_type": "code",
   "execution_count": 2,
   "metadata": {
    "colab": {},
    "colab_type": "code",
    "id": "rB1ovcX1mBxQ"
   },
   "outputs": [],
   "source": [
    "#@test {\"skip\": true}\n",
    "!pip install --quiet --upgrade tensorflow_federated"
   ]
  },
  {
   "cell_type": "code",
   "execution_count": 2,
   "metadata": {
    "colab": {},
    "colab_type": "code",
    "id": "-skNC6aovM46"
   },
   "outputs": [],
   "source": [
    "import collections\n",
    "\n",
    "import numpy as np\n",
    "import tensorflow as tf\n",
    "import tensorflow_federated as tff\n",
    "\n",
    "tf.compat.v1.enable_v2_behavior()\n",
    "\n",
    "# TODO(b/148678573,b/148685415): must use the ReferenceExecutor because it\n",
    "# supports unbounded references and tff.sequence_* intrinsics.\n",
    "tff.framework.set_default_executor(tff.test.ReferenceExecutor())"
   ]
  },
  {
   "cell_type": "code",
   "execution_count": 3,
   "metadata": {
    "colab": {
     "height": 34
    },
    "colab_type": "code",
    "id": "zzXwGnZamIMM",
    "outputId": "a98113aa-7612-422a-d3f5-ef4c2a79b88c"
   },
   "outputs": [
    {
     "data": {
      "text/plain": [
       "'Hello, World!'"
      ]
     },
     "execution_count": 3,
     "metadata": {},
     "output_type": "execute_result"
    }
   ],
   "source": [
    "@tff.federated_computation\n",
    "def hello_world():\n",
    "  return 'Hello, World!'\n",
    "\n",
    "hello_world()"
   ]
  },
  {
   "cell_type": "markdown",
   "metadata": {
    "colab_type": "text",
    "id": "iu5Gd8D6W33s"
   },
   "source": [
    "## Implementing Federated Averaging\n",
    "\n",
    "As in\n",
    "[Federated Learning for Image Classification](federated_learning_for_image_classification.ipynb),\n",
    "we are going to use the MNIST example, but since this is intended as a low-level\n",
    "tutorial, we are going to bypass the Keras API and `tff.simulation`, write raw\n",
    "model code, and construct a federated data set from scratch.\n"
   ]
  },
  {
   "cell_type": "markdown",
   "metadata": {
    "colab_type": "text",
    "id": "b6qCjef350c_"
   },
   "source": [
    "\n",
    "### Preparing federated data sets\n",
    "\n",
    "For the sake of a demonstration, we're going to simulate a scenario in which we\n",
    "have data from 10 users, and each of the users contributes knowledge how to\n",
    "recognize a different digit. This is about as\n",
    "non-[i.i.d.](https://en.wikipedia.org/wiki/Independent_and_identically_distributed_random_variables)\n",
    "as it gets.\n",
    "\n",
    "First, let's load the standard MNIST data:"
   ]
  },
  {
   "cell_type": "code",
   "execution_count": 4,
   "metadata": {
    "colab": {
     "height": 68
    },
    "colab_type": "code",
    "id": "uThZM4Ds-KDQ",
    "outputId": "a0ceccf9-8acf-4311-b727-4cc4e954c246"
   },
   "outputs": [],
   "source": [
    "mnist_train, mnist_test = tf.keras.datasets.mnist.load_data()"
   ]
  },
  {
   "cell_type": "code",
   "execution_count": 5,
   "metadata": {
    "colab": {
     "height": 34
    },
    "colab_type": "code",
    "id": "PkJc5rHA2no_",
    "outputId": "b8d29f4b-37c4-40b4-d8b2-c21958bb834c"
   },
   "outputs": [
    {
     "data": {
      "text/plain": [
       "[(dtype('uint8'), (60000, 28, 28)), (dtype('uint8'), (60000,))]"
      ]
     },
     "execution_count": 5,
     "metadata": {},
     "output_type": "execute_result"
    }
   ],
   "source": [
    "[(x.dtype, x.shape) for x in mnist_train]"
   ]
  },
  {
   "cell_type": "markdown",
   "metadata": {
    "colab_type": "text",
    "id": "mFET4BKJFbkP"
   },
   "source": [
    "The data comes as Numpy arrays, one with images and another with digit labels, both\n",
    "with the first dimension going over the individual examples. Let's write a\n",
    "helper function that formats it in a way compatible with how we feed federated\n",
    "sequences into TFF computations, i.e., as a list of lists - the outer list\n",
    "ranging over the users (digits), the inner ones ranging over batches of data in\n",
    "each client's sequence. As is customary, we will structure each batch as a pair\n",
    "of tensors named `x` and `y`, each with the leading batch dimension. While at\n",
    "it, we'll also flatten each image into a 784-element vector and rescale the\n",
    "pixels in it into the `0..1` range, so that we don't have to clutter the model\n",
    "logic with data conversions."
   ]
  },
  {
   "cell_type": "code",
   "execution_count": 6,
   "metadata": {
    "colab": {},
    "colab_type": "code",
    "id": "XTaTLiq5GNqy"
   },
   "outputs": [],
   "source": [
    "NUM_EXAMPLES_PER_USER = 1000\n",
    "BATCH_SIZE = 100\n",
    "\n",
    "\n",
    "\n",
    "def get_data_for_digit(source, digit):\n",
    "  output_sequence = []\n",
    "  all_samples = [i for i, d in enumerate(source[1]) if d == digit]\n",
    "  for i in range(0, min(len(all_samples), NUM_EXAMPLES_PER_USER), BATCH_SIZE):\n",
    "    batch_samples = all_samples[i:i + BATCH_SIZE]\n",
    "    output_sequence.append({\n",
    "        'x':\n",
    "            np.array([source[0][i].flatten() / 255.0 for i in batch_samples],\n",
    "                     dtype=np.float32),\n",
    "        'y':\n",
    "            np.array([source[1][i] for i in batch_samples], dtype=np.int32)\n",
    "    })\n",
    "  return output_sequence\n",
    "\n",
    "\n",
    "federated_train_data = [get_data_for_digit(mnist_train, d) for d in range(10)]\n",
    "\n",
    "federated_test_data = [get_data_for_digit(mnist_test, d) for d in range(10)]"
   ]
  },
  {
   "cell_type": "markdown",
   "metadata": {
    "colab_type": "text",
    "id": "xpNdBimWaMHD"
   },
   "source": [
    "As a quick sanity check, let's look at the `Y` tensor in the last batch of data\n",
    "contributed by the fifth client (the one corresponding to the digit `5`)."
   ]
  },
  {
   "cell_type": "code",
   "execution_count": 7,
   "metadata": {
    "colab": {
     "height": 102
    },
    "colab_type": "code",
    "id": "bTNuL1W4bcuc",
    "outputId": "084d5f87-3d48-46b1-bc5c-eea5ff668c65"
   },
   "outputs": [
    {
     "data": {
      "text/plain": [
       "100"
      ]
     },
     "execution_count": 7,
     "metadata": {},
     "output_type": "execute_result"
    }
   ],
   "source": [
    "len(federated_train_data[5][-1]['y'])"
   ]
  },
  {
   "cell_type": "markdown",
   "metadata": {
    "colab_type": "text",
    "id": "Xgvcwv7Obhat"
   },
   "source": [
    "Just to be sure, let's also look at the image corresponding to the last element of that batch."
   ]
  },
  {
   "cell_type": "code",
   "execution_count": 9,
   "metadata": {
    "colab": {
     "height": 269
    },
    "colab_type": "code",
    "id": "cI4aat1za525",
    "outputId": "1623234a-6c31-4b46-8858-5279b5ce872a"
   },
   "outputs": [
    {
     "data": {
      "text/plain": [
       "<Figure size 640x480 with 1 Axes>"
      ]
     },
     "metadata": {},
     "output_type": "display_data"
    }
   ],
   "source": [
    "from matplotlib import pyplot as plt\n",
    "\n",
    "plt.imshow(federated_train_data[5][-1]['x'][-1].reshape(28, 28), cmap='gray')\n",
    "plt.grid(False)\n",
    "plt.show()"
   ]
  },
  {
   "cell_type": "markdown",
   "metadata": {
    "colab_type": "text",
    "id": "J-ox58PA56f8"
   },
   "source": [
    "### On combining TensorFlow and TFF\n",
    "\n",
    "In this tutorial, for compactness we immediately decorate functions that\n",
    "introduce TensorFlow logic with `tff.tf_computation`. However, for more complex\n",
    "logic, this is not the pattern we recommend. Debugging TensorFlow can already be\n",
    "a challenge, and debugging TensorFlow after it has been fully serialized and\n",
    "then re-imported necessarily loses some metadata and limits interactivity,\n",
    "making debugging even more of a challenge.\n",
    "\n",
    "Therefore, **we strongly recommend writing complex TF logic as stand-alone\n",
    "Python functions** (that is, without `tff.tf_computation` decoration). This way\n",
    "the TensorFlow logic can be developed and tested using TF best practices and\n",
    "tools (like eager mode), before serializing the computation for TFF (e.g., by invoking `tff.tf_computation` with a Python function as the argument)."
   ]
  },
  {
   "cell_type": "markdown",
   "metadata": {
    "colab_type": "text",
    "id": "RSd6UatXbzw-"
   },
   "source": [
    "### Defining a loss function\n",
    "\n",
    "Now that we have the data, let's define a loss function that we can use for\n",
    "training. First, let's define the type of input as a TFF named tuple. Since the\n",
    "size of data batches may vary, we set the batch dimension to `None` to indicate\n",
    "that the size of this dimension is unknown."
   ]
  },
  {
   "cell_type": "code",
   "execution_count": 10,
   "metadata": {
    "colab": {
     "height": 34
    },
    "colab_type": "code",
    "id": "653xv5NXd4fy",
    "outputId": "1274c8ba-5040-4adf-ad9e-d69c335582c7"
   },
   "outputs": [
    {
     "data": {
      "text/plain": [
       "'<x=float32[?,784],y=int32[?]>'"
      ]
     },
     "execution_count": 10,
     "metadata": {},
     "output_type": "execute_result"
    }
   ],
   "source": [
    "BATCH_SPEC = collections.OrderedDict(\n",
    "    x=tf.TensorSpec(shape=[None, 784], dtype=tf.float32),\n",
    "    y=tf.TensorSpec(shape=[None], dtype=tf.int32))\n",
    "BATCH_TYPE = tff.to_type(BATCH_SPEC)\n",
    "\n",
    "str(BATCH_TYPE)"
   ]
  },
  {
   "cell_type": "markdown",
   "metadata": {
    "colab_type": "text",
    "id": "pb6qPUvyh5A1"
   },
   "source": [
    "You may be wondering why we can't just define an ordinary Python type. Recall\n",
    "the discussion in [part 1](custom_federated_algorithms_1.ipynb), where we\n",
    "explained that while we can express the logic of TFF computations using Python,\n",
    "under the hood TFF computations *are not* Python. The symbol `BATCH_TYPE`\n",
    "defined above represents an abstract TFF type specification. It is important to\n",
    "distinguish this *abstract* TFF type from concrete Python *representation*\n",
    "types, e.g., containers such as `dict` or `collections.namedtuple` that may be\n",
    "used to represent the TFF type in the body of a Python function. Unlike Python,\n",
    "TFF has a single abstract type constructor `tff.NamedTupleType` for tuple-like\n",
    "containers, with elements that can be individually named or left unnamed. This\n",
    "type is also used to model formal parameters of computations, as TFF\n",
    "computations can formally only declare one parameter and one result - you will\n",
    "see examples of this shortly.\n",
    "\n",
    "Let's now define the TFF type of model parameters, again as a TFF named tuple of\n",
    "*weights* and *bias*."
   ]
  },
  {
   "cell_type": "code",
   "execution_count": 11,
   "metadata": {
    "colab": {
     "height": 34
    },
    "colab_type": "code",
    "id": "Og7VViafh-30",
    "outputId": "bc304708-7870-439d-a9ca-4125ab157a3a"
   },
   "outputs": [
    {
     "name": "stdout",
     "output_type": "stream",
     "text": [
      "<weights=float32[784,10],bias=float32[10]>\n"
     ]
    }
   ],
   "source": [
    "MODEL_SPEC = collections.OrderedDict(\n",
    "    weights=tf.TensorSpec(shape=[784, 10], dtype=tf.float32),\n",
    "    bias=tf.TensorSpec(shape=[10], dtype=tf.float32))\n",
    "MODEL_TYPE = tff.to_type(MODEL_SPEC)\n",
    "\n",
    "print(MODEL_TYPE)"
   ]
  },
  {
   "cell_type": "markdown",
   "metadata": {
    "colab_type": "text",
    "id": "iHhdaWSpfQxo"
   },
   "source": [
    "With those definitions in place, now we can define the loss for a given model, over a single batch. Note the usage of `@tf.function` decorator inside the `@tff.tf_computation` decorator. This allows us to write TF using Python like semantics even though were inside a `tf.Graph` context created by the `tff.tf_computation` decorator."
   ]
  },
  {
   "cell_type": "code",
   "execution_count": 12,
   "metadata": {
    "colab": {},
    "colab_type": "code",
    "id": "4EObiz_Ke0uK"
   },
   "outputs": [],
   "source": [
    "# NOTE: `forward_pass` is defined separately from `batch_loss` so that it can \n",
    "# be later called from within another tf.function. Necessary because a\n",
    "# @tf.function  decorated method cannot invoke a @tff.tf_computation.\n",
    "\n",
    "@tf.function\n",
    "def forward_pass(model, batch):\n",
    "  predicted_y = tf.nn.softmax(\n",
    "      tf.matmul(batch['x'], model['weights']) + model['bias'])\n",
    "  return -tf.reduce_mean(\n",
    "      tf.reduce_sum(\n",
    "          tf.one_hot(batch['y'], 10) * tf.math.log(predicted_y), axis=[1]))\n",
    "\n",
    "@tff.tf_computation(MODEL_TYPE, BATCH_TYPE)\n",
    "def batch_loss(model, batch):\n",
    "  return forward_pass(model, batch)"
   ]
  },
  {
   "cell_type": "markdown",
   "metadata": {
    "colab_type": "text",
    "id": "8K0UZHGnr8SB"
   },
   "source": [
    "As expected, computation `batch_loss` returns `float32` loss given the model and\n",
    "a single data batch. Note how the `MODEL_TYPE` and `BATCH_TYPE` have been lumped\n",
    "together into a 2-tuple of formal parameters; you can recognize the type of\n",
    "`batch_loss` as `(<MODEL_TYPE,BATCH_TYPE> -> float32)`."
   ]
  },
  {
   "cell_type": "code",
   "execution_count": 13,
   "metadata": {
    "colab": {
     "height": 34
    },
    "colab_type": "code",
    "id": "4WXEAY8Nr89V",
    "outputId": "2c10482b-05d4-4026-e73e-9341d1abc3b0"
   },
   "outputs": [
    {
     "data": {
      "text/plain": [
       "'(<<weights=float32[784,10],bias=float32[10]>,<x=float32[?,784],y=int32[?]>> -> float32)'"
      ]
     },
     "execution_count": 13,
     "metadata": {},
     "output_type": "execute_result"
    }
   ],
   "source": [
    "str(batch_loss.type_signature)"
   ]
  },
  {
   "cell_type": "markdown",
   "metadata": {
    "colab_type": "text",
    "id": "pAnt_UcdnvGa"
   },
   "source": [
    "As a sanity check, let's construct an initial model filled with zeros and\n",
    "compute the loss over the batch of data we visualized above."
   ]
  },
  {
   "cell_type": "code",
   "execution_count": 14,
   "metadata": {
    "colab": {
     "height": 34
    },
    "colab_type": "code",
    "id": "U8Ne8igan3os",
    "outputId": "117f4635-477c-4ce7-f426-ccd3e683062b"
   },
   "outputs": [
    {
     "data": {
      "text/plain": [
       "2.3025854"
      ]
     },
     "execution_count": 14,
     "metadata": {},
     "output_type": "execute_result"
    }
   ],
   "source": [
    "initial_model = collections.OrderedDict(\n",
    "    weights=np.zeros([784, 10], dtype=np.float32),\n",
    "    bias=np.zeros([10], dtype=np.float32))\n",
    "\n",
    "sample_batch = federated_train_data[5][-1]\n",
    "\n",
    "batch_loss(initial_model, sample_batch)"
   ]
  },
  {
   "cell_type": "markdown",
   "metadata": {
    "colab_type": "text",
    "id": "ckigEAyDAWFV"
   },
   "source": [
    "Note that we feed the TFF computation with the initial model defined as a\n",
    "`dict`, even though the body of the Python function that defines it consumes\n",
    "model parameters as `model.weight` and `model.bias`. The arguments of the call\n",
    "to `batch_loss` aren't simply passed to the body of that function.\n",
    "\n",
    "\n",
    "What happens when we invoke `batch_loss`?\n",
    "The Python body of `batch_loss` has already been traced and serialized  in the above cell where it was defined.  TFF acts as the caller to `batch_loss`\n",
    "at the computation definition time, and as the target of invocation at the time\n",
    "`batch_loss` is invoked. In both roles, TFF serves as the bridge between TFF's\n",
    "abstract type system and Python representation types. At the invocation time,\n",
    "TFF will accept most standard Python container types (`dict`, `list`, `tuple`,\n",
    "`collections.namedtuple`, etc.) as concrete representations of abstract TFF\n",
    "tuples. Also, although as noted above, TFF computations formally only accept a\n",
    "single parameter, you can use the familiar Python call syntax with positional\n",
    "and/or keyword arguments in case where the type of the parameter is a tuple - it\n",
    "works as expected."
   ]
  },
  {
   "cell_type": "markdown",
   "metadata": {
    "colab_type": "text",
    "id": "eB510nILYbId"
   },
   "source": [
    "### Gradient descent on a single batch\n",
    "\n",
    "Now, let's define a computation that uses this loss function to perform a single\n",
    "step of gradient descent. Note how in defining this function, we use\n",
    "`batch_loss` as a subcomponent. You can invoke a computation constructed with\n",
    "`tff.tf_computation` inside the body of another computation, though typically\n",
    "this is not necessary - as noted above, because serialization looses some\n",
    "debugging information, it is often preferable for more complex computations to\n",
    "write and test all the TensorFlow without the `tff.tf_computation` decorator."
   ]
  },
  {
   "cell_type": "code",
   "execution_count": 15,
   "metadata": {
    "colab": {},
    "colab_type": "code",
    "id": "O4uaVxw3AyYS"
   },
   "outputs": [
    {
     "name": "stdout",
     "output_type": "stream",
     "text": [
      "WARNING:tensorflow:From /opt/conda/lib/python3.6/site-packages/tensorflow/python/ops/resource_variable_ops.py:1666: calling BaseResourceVariable.__init__ (from tensorflow.python.ops.resource_variable_ops) with constraint is deprecated and will be removed in a future version.\n",
      "Instructions for updating:\n",
      "If using Keras pass *_constraint arguments to layers.\n"
     ]
    }
   ],
   "source": [
    "@tff.tf_computation(MODEL_TYPE, BATCH_TYPE, tf.float32)\n",
    "def batch_train(initial_model, batch, learning_rate):\n",
    "  # Define a group of model variables and set them to `initial_model`. Must\n",
    "  # be defined outside the @tf.function.\n",
    "  model_vars = collections.OrderedDict([\n",
    "      (name, tf.Variable(name=name, initial_value=value))\n",
    "      for name, value in initial_model.items()\n",
    "  ])\n",
    "  optimizer = tf.keras.optimizers.SGD(learning_rate)\n",
    "\n",
    "  @tf.function\n",
    "  def _train_on_batch(model_vars, batch):\n",
    "    # Perform one step of gradient descent using loss from `batch_loss`.\n",
    "    with tf.GradientTape() as tape:\n",
    "      loss = forward_pass(model_vars, batch)\n",
    "    grads = tape.gradient(loss, model_vars)\n",
    "    optimizer.apply_gradients(\n",
    "        zip(tf.nest.flatten(grads), tf.nest.flatten(model_vars)))\n",
    "    return model_vars\n",
    "\n",
    "  return _train_on_batch(model_vars, batch)"
   ]
  },
  {
   "cell_type": "code",
   "execution_count": 16,
   "metadata": {
    "colab": {
     "height": 54
    },
    "colab_type": "code",
    "id": "Y84gQsaohC38",
    "outputId": "00e48328-79d6-408d-a380-93ecdee34b5e"
   },
   "outputs": [
    {
     "data": {
      "text/plain": [
       "'(<<weights=float32[784,10],bias=float32[10]>,<x=float32[?,784],y=int32[?]>,float32> -> <weights=float32[784,10],bias=float32[10]>)'"
      ]
     },
     "execution_count": 16,
     "metadata": {},
     "output_type": "execute_result"
    }
   ],
   "source": [
    "str(batch_train.type_signature)"
   ]
  },
  {
   "cell_type": "markdown",
   "metadata": {
    "colab_type": "text",
    "id": "ID8xg9FCUL2A"
   },
   "source": [
    "When you invoke a Python function decorated with `tff.tf_computation` within the\n",
    "body of another such function, the logic of the inner TFF computation is\n",
    "embedded (essentially, inlined) in the logic of the outer one. As noted above,\n",
    "if you are writing both computations, it is likely preferable to make the inner\n",
    "function (`batch_loss` in this case) a regular Python or `tf.function` rather\n",
    "than a `tff.tf_computation`. However, here we illustrate that calling one\n",
    "`tff.tf_computation` inside another basically works as expected. This may be\n",
    "necessary if, for example, you do not have the Python code defining\n",
    "`batch_loss`, but only its serialized TFF representation.\n",
    "\n",
    "Now, let's apply this function a few times to the initial model to see whether\n",
    "the loss decreases."
   ]
  },
  {
   "cell_type": "code",
   "execution_count": 17,
   "metadata": {
    "colab": {},
    "colab_type": "code",
    "id": "8edcJTlXUULm"
   },
   "outputs": [],
   "source": [
    "model = initial_model\n",
    "losses = []\n",
    "for _ in range(5):\n",
    "  model = batch_train(model, sample_batch, 0.1)\n",
    "  losses.append(batch_loss(model, sample_batch))"
   ]
  },
  {
   "cell_type": "code",
   "execution_count": 18,
   "metadata": {
    "colab": {
     "height": 34
    },
    "colab_type": "code",
    "id": "3n1onojT1zHv",
    "outputId": "0a92274b-ccdb-42ca-ac05-b20bfef7036a"
   },
   "outputs": [
    {
     "data": {
      "text/plain": [
       "[0.19690023, 0.13176316, 0.10113226, 0.08273812, 0.07030139]"
      ]
     },
     "execution_count": 18,
     "metadata": {},
     "output_type": "execute_result"
    }
   ],
   "source": [
    "losses"
   ]
  },
  {
   "cell_type": "markdown",
   "metadata": {
    "colab_type": "text",
    "id": "EQk4Ha8PU-3P"
   },
   "source": [
    "### Gradient descent on a sequence of local data\n",
    "\n",
    "Now, since `batch_train` appears to work, let's write a similar training\n",
    "function `local_train` that consumes the entire sequence of all batches from one\n",
    "user instead of just a single batch. The new computation will need to now\n",
    "consume `tff.SequenceType(BATCH_TYPE)` instead of `BATCH_TYPE`."
   ]
  },
  {
   "cell_type": "code",
   "execution_count": 19,
   "metadata": {
    "colab": {},
    "colab_type": "code",
    "id": "EfPD5a6QVNXM"
   },
   "outputs": [],
   "source": [
    "LOCAL_DATA_TYPE = tff.SequenceType(BATCH_TYPE)\n",
    "\n",
    "@tff.federated_computation(MODEL_TYPE, tf.float32, LOCAL_DATA_TYPE)\n",
    "def local_train(initial_model, learning_rate, all_batches):\n",
    "\n",
    "  # Mapping function to apply to each batch.\n",
    "  @tff.federated_computation(MODEL_TYPE, BATCH_TYPE)\n",
    "  def batch_fn(model, batch):\n",
    "    return batch_train(model, batch, learning_rate)\n",
    "\n",
    "  return tff.sequence_reduce(all_batches, initial_model, batch_fn)"
   ]
  },
  {
   "cell_type": "code",
   "execution_count": 20,
   "metadata": {
    "colab": {
     "height": 54
    },
    "colab_type": "code",
    "id": "sAhkS5yKUgjC",
    "outputId": "9d9657d7-b082-4fa1-99e5-6d53e12dfdd6"
   },
   "outputs": [
    {
     "data": {
      "text/plain": [
       "'(<<weights=float32[784,10],bias=float32[10]>,float32,<x=float32[?,784],y=int32[?]>*> -> <weights=float32[784,10],bias=float32[10]>)'"
      ]
     },
     "execution_count": 20,
     "metadata": {},
     "output_type": "execute_result"
    }
   ],
   "source": [
    "str(local_train.type_signature)"
   ]
  },
  {
   "cell_type": "markdown",
   "metadata": {
    "colab_type": "text",
    "id": "EYT-SiopYBtH"
   },
   "source": [
    "There are quite a few details buried in this short section of code, let's go\n",
    "over them one by one.\n",
    "\n",
    "First, while we could have implemented this logic entirely in TensorFlow,\n",
    "relying on `tf.data.Dataset.reduce` to process the sequence similarly to how\n",
    "we've done it earlier, we've opted this time to express the logic in the glue\n",
    "language, as a `tff.federated_computation`. We've used the federated operator\n",
    "`tff.sequence_reduce` to perform the reduction.\n",
    "\n",
    "The operator `tff.sequence_reduce` is used similarly to\n",
    "`tf.data.Dataset.reduce`. You can think of it as essentially the same as\n",
    "`tf.data.Dataset.reduce`, but for use inside federated computations, which as\n",
    "you may remember, cannot contain TensorFlow code. It is a template operator with\n",
    "a formal parameter 3-tuple that consists of a *sequence* of `T`-typed elements,\n",
    "the initial state of the reduction (we'll refer to it abstractly as *zero*) of\n",
    "some type `U`, and the *reduction operator* of type `(<U,T> -> U)` that alters the\n",
    "state of the reduction by processing a single element. The result is the final\n",
    "state of the reduction, after processing all elements in a sequential order. In\n",
    "our example, the state of the reduction is the model trained on a prefix of the\n",
    "data, and the elements are data batches.\n",
    "\n",
    "Second, note that we have again used one computation (`batch_train`) as a\n",
    "component within another (`local_train`), but not directly. We can't use it as a\n",
    "reduction operator because it takes an additional parameter - the learning rate.\n",
    "To resolve this, we define an embedded federated computation `batch_fn` that\n",
    "binds to the `local_train`'s parameter `learning_rate` in its body. It is\n",
    "allowed for a child computation defined this way to capture a formal parameter\n",
    "of its parent as long as the child computation is not invoked outside the body\n",
    "of its parent. You can think of this pattern as an equivalent of\n",
    "`functools.partial` in Python.\n",
    "\n",
    "The practical implication of capturing `learning_rate` this way is, of course,\n",
    "that the same learning rate value is used across all batches.\n",
    "\n",
    "Now, let's try the newly defined local training function on the entire sequence\n",
    "of data from the same user who contributed the sample batch (digit `5`)."
   ]
  },
  {
   "cell_type": "code",
   "execution_count": 21,
   "metadata": {
    "colab": {},
    "colab_type": "code",
    "id": "EnWFLoZGcSby"
   },
   "outputs": [],
   "source": [
    "locally_trained_model = local_train(initial_model, 0.1, federated_train_data[5])"
   ]
  },
  {
   "cell_type": "markdown",
   "metadata": {
    "colab_type": "text",
    "id": "y0UXUqGk9zoF"
   },
   "source": [
    "Did it work? To answer this question, we need to implement evaluation."
   ]
  },
  {
   "cell_type": "markdown",
   "metadata": {
    "colab_type": "text",
    "id": "a8WDKu6WYy__"
   },
   "source": [
    "### Local evaluation\n",
    "\n",
    "Here's one way to implement local evaluation by adding up the losses across all data\n",
    "batches (we could have just as well computed the average; we'll leave it as an\n",
    "exercise for the reader)."
   ]
  },
  {
   "cell_type": "code",
   "execution_count": 22,
   "metadata": {
    "colab": {},
    "colab_type": "code",
    "id": "0RiODuc6z7Ln"
   },
   "outputs": [],
   "source": [
    "@tff.federated_computation(MODEL_TYPE, LOCAL_DATA_TYPE)\n",
    "def local_eval(model, all_batches):\n",
    "  # TODO(b/120157713): Replace with `tff.sequence_average()` once implemented.\n",
    "  return tff.sequence_sum(\n",
    "      tff.sequence_map(\n",
    "          tff.federated_computation(lambda b: batch_loss(model, b), BATCH_TYPE),\n",
    "          all_batches))"
   ]
  },
  {
   "cell_type": "code",
   "execution_count": 23,
   "metadata": {
    "colab": {
     "height": 34
    },
    "colab_type": "code",
    "id": "pH2XPEAKa4Dg",
    "outputId": "66f4a9b0-d72e-45a8-d849-5762ec7b178d"
   },
   "outputs": [
    {
     "data": {
      "text/plain": [
       "'(<<weights=float32[784,10],bias=float32[10]>,<x=float32[?,784],y=int32[?]>*> -> float32)'"
      ]
     },
     "execution_count": 23,
     "metadata": {},
     "output_type": "execute_result"
    }
   ],
   "source": [
    "str(local_eval.type_signature)"
   ]
  },
  {
   "cell_type": "markdown",
   "metadata": {
    "colab_type": "text",
    "id": "efX81HuE-BcO"
   },
   "source": [
    "Again, there are a few new elements illustrated by this code, let's go over them\n",
    "one by one.\n",
    "\n",
    "First, we have used two new federated operators for processing sequences:\n",
    "`tff.sequence_map` that takes a *mapping function* `T->U` and a *sequence* of\n",
    "`T`, and emits a sequence of `U` obtained by applying the mapping function\n",
    "pointwise, and `tff.sequence_sum` that just adds all the elements. Here, we map\n",
    "each data batch to a loss value, and then add the resulting loss values to\n",
    "compute the total loss.\n",
    "\n",
    "Note that we could have again used `tff.sequence_reduce`, but this wouldn't be\n",
    "the best choice - the reduction process is, by definition, sequential, whereas\n",
    "the mapping and sum can be computed in parallel. When given a choice, it's best\n",
    "to stick with operators that don't constrain implementation choices, so that\n",
    "when our TFF computation is compiled in the future to be deployed to a specific\n",
    "environment, one can take full advantage of all potential opportunities for a\n",
    "faster, more scalable, more resource-efficient execution.\n",
    "\n",
    "Second, note that just as in `local_train`, the component function we need\n",
    "(`batch_loss`) takes more parameters than what the federated operator\n",
    "(`tff.sequence_map`) expects, so we again define a partial, this time inline by\n",
    "directly wrapping a `lambda` as a `tff.federated_computation`. Using wrappers\n",
    "inline with a function as an argument is the recommended way to use\n",
    "`tff.tf_computation` to embed TensorFlow logic in TFF.\n",
    "\n",
    "Now, let's see whether our training worked."
   ]
  },
  {
   "cell_type": "code",
   "execution_count": 24,
   "metadata": {
    "colab": {
     "height": 51
    },
    "colab_type": "code",
    "id": "vPw6JSVf5q_x",
    "outputId": "0413c910-7596-4ff4-8c9d-0c0718f17fd4"
   },
   "outputs": [
    {
     "name": "stdout",
     "output_type": "stream",
     "text": [
      "initial_model loss = 23.025854\n",
      "locally_trained_model loss = 0.43484688\n"
     ]
    }
   ],
   "source": [
    "print('initial_model loss =', local_eval(initial_model,\n",
    "                                         federated_train_data[5]))\n",
    "print('locally_trained_model loss =',\n",
    "      local_eval(locally_trained_model, federated_train_data[5]))"
   ]
  },
  {
   "cell_type": "markdown",
   "metadata": {
    "colab_type": "text",
    "id": "6Tvu70cnBsUf"
   },
   "source": [
    "Indeed, the loss decreased. But what happens if we evaluated it on another\n",
    "user's data?"
   ]
  },
  {
   "cell_type": "code",
   "execution_count": 25,
   "metadata": {
    "colab": {
     "height": 51
    },
    "colab_type": "code",
    "id": "gjF0NYAj5wls",
    "outputId": "87b0ab01-4e13-4613-bc50-687c7131514a"
   },
   "outputs": [
    {
     "name": "stdout",
     "output_type": "stream",
     "text": [
      "initial_model loss = 23.025854\n",
      "locally_trained_model loss = 74.500755\n"
     ]
    }
   ],
   "source": [
    "print('initial_model loss =', local_eval(initial_model,\n",
    "                                         federated_train_data[0]))\n",
    "print('locally_trained_model loss =',\n",
    "      local_eval(locally_trained_model, federated_train_data[0]))"
   ]
  },
  {
   "cell_type": "markdown",
   "metadata": {
    "colab_type": "text",
    "id": "7WPumnRTBzUs"
   },
   "source": [
    "As expected, things got worse. The model was trained to recognize `5`, and has\n",
    "never seen a `0`. This brings the question - how did the local training impact\n",
    "the quality of the model from the global perspective?"
   ]
  },
  {
   "cell_type": "markdown",
   "metadata": {
    "colab_type": "text",
    "id": "QJnL2mQRZKTO"
   },
   "source": [
    "### Federated evaluation\n",
    "\n",
    "This is the point in our journey where we finally circle back to federated types\n",
    "and federated computations - the topic that we started with. Here's a pair of\n",
    "TFF types definitions for the model that originates at the server, and the data\n",
    "that remains on the clients."
   ]
  },
  {
   "cell_type": "code",
   "execution_count": 26,
   "metadata": {
    "colab": {},
    "colab_type": "code",
    "id": "LjGGhpoEBh_6"
   },
   "outputs": [],
   "source": [
    "SERVER_MODEL_TYPE = tff.FederatedType(MODEL_TYPE, tff.SERVER)\n",
    "CLIENT_DATA_TYPE = tff.FederatedType(LOCAL_DATA_TYPE, tff.CLIENTS)"
   ]
  },
  {
   "cell_type": "markdown",
   "metadata": {
    "colab_type": "text",
    "id": "4gTXV2-jZtE3"
   },
   "source": [
    "With all the definitions introduced so far, expressing federated evaluation in\n",
    "TFF is a one-liner - we distribute the model to clients, let each client invoke\n",
    "local evaluation on its local portion of data, and then average out the loss.\n",
    "Here's one way to write this."
   ]
  },
  {
   "cell_type": "code",
   "execution_count": 27,
   "metadata": {
    "colab": {},
    "colab_type": "code",
    "id": "2zChEPzEBx4T"
   },
   "outputs": [],
   "source": [
    "@tff.federated_computation(SERVER_MODEL_TYPE, CLIENT_DATA_TYPE)\n",
    "def federated_eval(model, data):\n",
    "  return tff.federated_mean(\n",
    "      tff.federated_map(local_eval, [tff.federated_broadcast(model), data]))"
   ]
  },
  {
   "cell_type": "markdown",
   "metadata": {
    "colab_type": "text",
    "id": "IWcNONNWaE0N"
   },
   "source": [
    "We've already seen examples of `tff.federated_mean` and `tff.federated_map`\n",
    "in simpler scenarios, and at the intuitive level, they work as expected, but\n",
    "there's more in this section of code than meets the eye, so let's go over it\n",
    "carefully.\n",
    "\n",
    "First, let's break down the *let each client invoke local evaluation on its\n",
    "local portion of data* part. As you may recall from the preceding sections,\n",
    "`local_eval` has a type signature of the form `(<MODEL_TYPE, LOCAL_DATA_TYPE> ->\n",
    "float32)`.\n",
    "\n",
    "The federated operator `tff.federated_map` is a template that accepts as a\n",
    "parameter a 2-tuple that consists of the *mapping function* of some type `T->U`\n",
    "and a federated value of type `{T}@CLIENTS` (i.e., with member constituents of\n",
    "the same type as the parameter of the mapping function), and returns a result of\n",
    "type `{U}@CLIENTS`.\n",
    "\n",
    "Since we're feeding `local_eval` as a mapping function to apply on a per-client\n",
    "basis, the second argument should be of a federated type `{<MODEL_TYPE,\n",
    "LOCAL_DATA_TYPE>}@CLIENTS`, i.e., in the nomenclature of the preceding sections,\n",
    "it should be a federated tuple. Each client should hold a full set of arguments\n",
    "for `local_eval` as a member consituent. Instead, we're feeding it a 2-element\n",
    "Python `list`. What's happening here?\n",
    "\n",
    "Indeed, this is an example of an *implicit type cast* in TFF, similar to\n",
    "implicit type casts you may have encountered elsewhere, e.g., when you feed an\n",
    "`int` to a function that accepts a `float`. Implicit casting is used scarcily at\n",
    "this point, but we plan to make it more pervasive in TFF as a way to minimize\n",
    "boilerplate.\n",
    "\n",
    "The implicit cast that's applied in this case is the equivalence between\n",
    "federated tuples of the form `{<X,Y>}@Z`, and tuples of federated values\n",
    "`<{X}@Z,{Y}@Z>`. While formally, these two are different type signatures,\n",
    "looking at it from the programmers's perspective, each device in `Z` holds two\n",
    "units of data `X` and `Y`. What happens here is not unlike `zip` in Python, and\n",
    "indeed, we offer an operator `tff.federated_zip` that allows you to perform such\n",
    "conversions explicity. When the `tff.federated_map` encounters a tuple as a\n",
    "second argument, it simply invokes `tff.federated_zip` for you.\n",
    "\n",
    "Given the above, you should now be able to recognize the expression\n",
    "`tff.federated_broadcast(model)` as representing a value of TFF type\n",
    "`{MODEL_TYPE}@CLIENTS`, and `data` as a value of TFF type\n",
    "`{LOCAL_DATA_TYPE}@CLIENTS` (or simply `CLIENT_DATA_TYPE`), the two getting\n",
    "filtered together through an implicit `tff.federated_zip` to form the second\n",
    "argument to `tff.federated_map`.\n",
    "\n",
    "The operator `tff.federated_broadcast`, as you'd expect, simply transfers data\n",
    "from the server to the clients.\n",
    "\n",
    "Now, let's see how our local training affected the average loss in the system."
   ]
  },
  {
   "cell_type": "code",
   "execution_count": 28,
   "metadata": {
    "colab": {
     "height": 51
    },
    "colab_type": "code",
    "id": "tbmtJItcn94j",
    "outputId": "68e62a80-8d43-411b-ae98-8f5f27abc8e9"
   },
   "outputs": [
    {
     "name": "stdout",
     "output_type": "stream",
     "text": [
      "initial_model loss = 23.025852\n",
      "locally_trained_model loss = 54.43263\n"
     ]
    }
   ],
   "source": [
    "print('initial_model loss =', federated_eval(initial_model,\n",
    "                                             federated_train_data))\n",
    "print('locally_trained_model loss =',\n",
    "      federated_eval(locally_trained_model, federated_train_data))"
   ]
  },
  {
   "cell_type": "markdown",
   "metadata": {
    "colab_type": "text",
    "id": "LQi2rGX_fK7i"
   },
   "source": [
    "Indeed, as expected, the loss has increased. In order to improve the model for\n",
    "all users, we'll need to train in on everyone's data."
   ]
  },
  {
   "cell_type": "markdown",
   "metadata": {
    "colab_type": "text",
    "id": "vkw9f59qfS7o"
   },
   "source": [
    "### Federated training\n",
    "\n",
    "The simplest way to implement federated training is to locally train, and then\n",
    "average the models. This uses the same building blocks and patters we've already\n",
    "discussed, as you can see below."
   ]
  },
  {
   "cell_type": "code",
   "execution_count": 29,
   "metadata": {
    "colab": {},
    "colab_type": "code",
    "id": "mBOC4uoG6dd-"
   },
   "outputs": [],
   "source": [
    "SERVER_FLOAT_TYPE = tff.FederatedType(tf.float32, tff.SERVER)\n",
    "\n",
    "\n",
    "@tff.federated_computation(SERVER_MODEL_TYPE, SERVER_FLOAT_TYPE,\n",
    "                           CLIENT_DATA_TYPE)\n",
    "def federated_train(model, learning_rate, data):\n",
    "  return tff.federated_mean(\n",
    "      tff.federated_map(local_train, [\n",
    "          tff.federated_broadcast(model),\n",
    "          tff.federated_broadcast(learning_rate), data\n",
    "      ]))"
   ]
  },
  {
   "cell_type": "markdown",
   "metadata": {
    "colab_type": "text",
    "id": "z2vACMsQjzO1"
   },
   "source": [
    "Note that in the full-featured implementation of Federated Averaging provided by\n",
    "`tff.learning`, rather than averaging the models, we prefer to average model\n",
    "deltas, for a number of reasons, e.g., the ability to clip the update norms,\n",
    "for compression, etc.\n",
    "\n",
    "Let's see whether the training works by running a few rounds of training and\n",
    "comparing the average loss before and after."
   ]
  },
  {
   "cell_type": "code",
   "execution_count": 30,
   "metadata": {
    "colab": {
     "height": 102
    },
    "colab_type": "code",
    "id": "NLx-3rLs9jGY",
    "outputId": "1a05e45f-123f-46eb-feb5-44cda954640f"
   },
   "outputs": [
    {
     "name": "stdout",
     "output_type": "stream",
     "text": [
      "round 0, loss=21.60552406311035\n",
      "round 1, loss=20.365678787231445\n",
      "round 2, loss=19.27480125427246\n",
      "round 3, loss=18.31110954284668\n",
      "round 4, loss=17.457256317138672\n"
     ]
    }
   ],
   "source": [
    "model = initial_model\n",
    "learning_rate = 0.1\n",
    "for round_num in range(5):\n",
    "  model = federated_train(model, learning_rate, federated_train_data)\n",
    "  learning_rate = learning_rate * 0.9\n",
    "  loss = federated_eval(model, federated_train_data)\n",
    "  print('round {}, loss={}'.format(round_num, loss))"
   ]
  },
  {
   "cell_type": "markdown",
   "metadata": {
    "colab_type": "text",
    "id": "Z0VjSLQzlUIp"
   },
   "source": [
    "For completeness, let's now also run on the test data to confirm that our model\n",
    "generalizes well."
   ]
  },
  {
   "cell_type": "code",
   "execution_count": 31,
   "metadata": {
    "colab": {
     "height": 51
    },
    "colab_type": "code",
    "id": "ZaZT45yFMOaM",
    "outputId": "96e31848-1bd8-4c6c-8d3f-84acfd9d5db8"
   },
   "outputs": [
    {
     "name": "stdout",
     "output_type": "stream",
     "text": [
      "initial_model test loss = 22.795593\n",
      "trained_model test loss = 17.278767\n"
     ]
    }
   ],
   "source": [
    "print('initial_model test loss =',\n",
    "      federated_eval(initial_model, federated_test_data))\n",
    "print('trained_model test loss =', federated_eval(model, federated_test_data))"
   ]
  },
  {
   "cell_type": "markdown",
   "metadata": {
    "colab_type": "text",
    "id": "pxlHHwLGlgFB"
   },
   "source": [
    "This concludes our tutorial.\n",
    "\n",
    "Of course, our simplified example doesn't reflect a number of things you'd need\n",
    "to do in a more realistic scenario - for example, we haven't computed metrics\n",
    "other than loss. We encourage you to study\n",
    "[the implementation](https://github.com/tensorflow/federated/blob/master/tensorflow_federated/python/learning/federated_averaging.py)\n",
    "of federated averaging in `tff.learning` as a more complete example, and as a\n",
    "way to demonstrate some of the coding practices we'd like to encourage."
   ]
  }
 ],
 "metadata": {
  "colab": {
   "collapsed_sections": [],
   "name": "Custom Federated Algorithms, Part 2: Implementing Federated Averaging",
   "provenance": [],
   "toc_visible": true
  },
  "kernelspec": {
   "display_name": "Python 3",
   "language": "python",
   "name": "python3"
  },
  "language_info": {
   "codemirror_mode": {
    "name": "ipython",
    "version": 3
   },
   "file_extension": ".py",
   "mimetype": "text/x-python",
   "name": "python",
   "nbconvert_exporter": "python",
   "pygments_lexer": "ipython3",
   "version": "3.6.7"
  }
 },
 "nbformat": 4,
 "nbformat_minor": 4
}
