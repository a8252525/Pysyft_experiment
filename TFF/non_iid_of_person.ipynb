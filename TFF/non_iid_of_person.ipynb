{
 "cells": [
  {
   "cell_type": "code",
   "execution_count": 1,
   "metadata": {},
   "outputs": [],
   "source": [
    "#@title Licensed under the Apache License, Version 2.0 (the \"License\");\n",
    "# you may not use this file except in compliance with the License.\n",
    "# You may obtain a copy of the License at\n",
    "#\n",
    "# https://www.apache.org/licenses/LICENSE-2.0\n",
    "#\n",
    "# Unless required by applicable law or agreed to in writing, software\n",
    "# distributed under the License is distributed on an \"AS IS\" BASIS,\n",
    "# WITHOUT WARRANTIES OR CONDITIONS OF ANY KIND, either express or implied.\n",
    "# See the License for the specific language governing permissions and\n",
    "# limitations under the License."
   ]
  },
  {
   "cell_type": "code",
   "execution_count": 2,
   "metadata": {},
   "outputs": [
    {
     "data": {
      "text/plain": [
       "b'Hello, World!'"
      ]
     },
     "execution_count": 2,
     "metadata": {},
     "output_type": "execute_result"
    }
   ],
   "source": [
    "import collections\n",
    "\n",
    "import numpy as np\n",
    "import tensorflow as tf\n",
    "import tensorflow_federated as tff\n",
    "\n",
    "tf.compat.v1.enable_v2_behavior()\n",
    "\n",
    "np.random.seed(0)\n",
    "\n",
    "tff.federated_computation(lambda: 'Hello, World!')()"
   ]
  },
  {
   "cell_type": "code",
   "execution_count": 31,
   "metadata": {},
   "outputs": [],
   "source": [
    "emnist_train, emnist_test = tff.simulation.datasets.emnist.load_data()"
   ]
  },
  {
   "cell_type": "code",
   "execution_count": 4,
   "metadata": {},
   "outputs": [
    {
     "data": {
      "text/plain": [
       "['f0000_14',\n",
       " 'f0001_41',\n",
       " 'f0005_26',\n",
       " 'f0006_12',\n",
       " 'f0008_45',\n",
       " 'f0011_13',\n",
       " 'f0014_19',\n",
       " 'f0016_39',\n",
       " 'f0017_07',\n",
       " 'f0022_10']"
      ]
     },
     "execution_count": 4,
     "metadata": {},
     "output_type": "execute_result"
    }
   ],
   "source": [
    "emnist_train.client_ids[:10]"
   ]
  },
  {
   "cell_type": "code",
   "execution_count": 5,
   "metadata": {},
   "outputs": [
    {
     "data": {
      "text/plain": [
       "OrderedDict([('label', TensorSpec(shape=(), dtype=tf.int32, name=None)),\n",
       "             ('pixels',\n",
       "              TensorSpec(shape=(28, 28), dtype=tf.float32, name=None))])"
      ]
     },
     "execution_count": 5,
     "metadata": {},
     "output_type": "execute_result"
    }
   ],
   "source": [
    "emnist_train.element_type_structure"
   ]
  },
  {
   "cell_type": "code",
   "execution_count": 6,
   "metadata": {},
   "outputs": [
    {
     "data": {
      "text/plain": [
       "(28, 28)"
      ]
     },
     "execution_count": 6,
     "metadata": {},
     "output_type": "execute_result"
    }
   ],
   "source": [
    "example_dataset = emnist_train.create_tf_dataset_for_client(\n",
    "    emnist_train.client_ids[0])\n",
    "\n",
    "example_element = next(iter(example_dataset))\n",
    "\n",
    "example_element['pixels'].numpy().shape"
   ]
  },
  {
   "cell_type": "code",
   "execution_count": 7,
   "metadata": {},
   "outputs": [
    {
     "data": {
      "text/plain": [
       "<Figure size 640x480 with 1 Axes>"
      ]
     },
     "metadata": {},
     "output_type": "display_data"
    }
   ],
   "source": [
    "%matplotlib inline\n",
    "from matplotlib import pyplot as plt\n",
    "plt.imshow(example_element['pixels'].numpy(), cmap='gray', aspect='equal')\n",
    "plt.grid(False)\n",
    "plt.show()"
   ]
  },
  {
   "cell_type": "code",
   "execution_count": 8,
   "metadata": {},
   "outputs": [],
   "source": [
    "NUM_CLIENTS = 65\n",
    "NUM_EPOCHS = 5\n",
    "BATCH_SIZE = 64\n",
    "SHUFFLE_BUFFER = 100\n",
    "PREFETCH_BUFFER=10\n",
    "\n",
    "def preprocess(dataset):\n",
    "\n",
    "  def batch_format_fn(element):\n",
    "    \"\"\"Flatten a batch `pixels` and return the features as an `OrderedDict`.\"\"\"\n",
    "    return collections.OrderedDict(\n",
    "        x=tf.reshape(element['pixels'],[-1, 28,28,1]),#tf.reshape(element['pixels'], [-1, 784]),\n",
    "        y=tf.reshape(element['label'], [-1, 1]))\n",
    "\n",
    "  return dataset.repeat(NUM_EPOCHS).shuffle(SHUFFLE_BUFFER).batch(\n",
    "      BATCH_SIZE).map(batch_format_fn).prefetch(PREFETCH_BUFFER)"
   ]
  },
  {
   "cell_type": "code",
   "execution_count": 37,
   "metadata": {},
   "outputs": [
    {
     "name": "stdout",
     "output_type": "stream",
     "text": [
      "<TensorSliceDataset shapes: OrderedDict([(label, ()), (pixels, (28, 28))]), types: OrderedDict([(label, tf.int32), (pixels, tf.float32)])>\n",
      "<RepeatDataset shapes: OrderedDict([(label, ()), (pixels, (28, 28))]), types: OrderedDict([(label, tf.int32), (pixels, tf.float32)])>\n"
     ]
    }
   ],
   "source": [
    "print(example_dataset)\n",
    "print(example_dataset.repeat(2))"
   ]
  },
  {
   "cell_type": "code",
   "execution_count": 9,
   "metadata": {},
   "outputs": [
    {
     "data": {
      "text/plain": [
       "(64, 1)"
      ]
     },
     "execution_count": 9,
     "metadata": {},
     "output_type": "execute_result"
    }
   ],
   "source": [
    "preprocessed_example_dataset = preprocess(example_dataset)\n",
    "preprocessed_example_dataset\n",
    "sample_batch = tf.nest.map_structure(lambda x: x.numpy(),\n",
    "                                     next(iter(preprocessed_example_dataset)))\n",
    "sample_batch['y'].shape\n"
   ]
  },
  {
   "cell_type": "code",
   "execution_count": 10,
   "metadata": {},
   "outputs": [],
   "source": [
    "def make_federated_data(client_data, client_ids):\n",
    "  return [\n",
    "      preprocess(client_data.create_tf_dataset_for_client(x))\n",
    "      for x in client_ids\n",
    "  ]"
   ]
  },
  {
   "cell_type": "code",
   "execution_count": 68,
   "metadata": {},
   "outputs": [
    {
     "name": "stdout",
     "output_type": "stream",
     "text": [
      "('pixels', <HDF5 dataset \"pixels\": shape (93, 28, 28), type \"<f4\">)\n",
      "('pixels', <HDF5 dataset \"pixels\": shape (109, 28, 28), type \"<f4\">)\n",
      "('pixels', <HDF5 dataset \"pixels\": shape (73, 28, 28), type \"<f4\">)\n",
      "('pixels', <HDF5 dataset \"pixels\": shape (100, 28, 28), type \"<f4\">)\n",
      "('pixels', <HDF5 dataset \"pixels\": shape (105, 28, 28), type \"<f4\">)\n"
     ]
    }
   ],
   "source": [
    "for i in emnist_train.client_ids[:5]:\n",
    "    print(list(emnist_train._h5_file[\"examples\"][i].items())[1])"
   ]
  },
  {
   "cell_type": "code",
   "execution_count": 69,
   "metadata": {},
   "outputs": [
    {
     "name": "stdout",
     "output_type": "stream",
     "text": [
      "Number of client datasets: 20\n",
      "First dataset: <PrefetchDataset shapes: OrderedDict([(x, (None, 28, 28, 1)), (y, (None, 1))]), types: OrderedDict([(x, tf.float32), (y, tf.int32)])>\n",
      "Second dataset: <PrefetchDataset shapes: OrderedDict([(x, (None, 28, 28, 1)), (y, (None, 1))]), types: OrderedDict([(x, tf.float32), (y, tf.int32)])>\n"
     ]
    }
   ],
   "source": [
    "sample_clients = emnist_train.client_ids[0:NUM_CLIENTS]\n",
    "\n",
    "federated_train_data = make_federated_data(emnist_train, sample_clients)\n",
    "\n",
    "print('Number of client datasets: {l}'.format(l=len(federated_train_data)))\n",
    "print('First dataset: {d}'.format(d=federated_train_data[0]))\n",
    "print('Second dataset: {d}'.format(d=federated_train_data[1]))"
   ]
  },
  {
   "cell_type": "code",
   "execution_count": 70,
   "metadata": {},
   "outputs": [],
   "source": [
    "def create_keras_model():\n",
    "  return tf.keras.models.Sequential([\n",
    "      tf.keras.layers.Input(shape = (28,28,1)),\n",
    "      tf.keras.layers.Conv2D(filters = 32, kernel_size = (5,5)),\n",
    "      tf.keras.layers.MaxPool2D(),\n",
    "      tf.keras.layers.Conv2D(filters = 64, kernel_size = (5,5)),\n",
    "      tf.keras.layers.MaxPool2D(),\n",
    "      tf.keras.layers.Flatten(),\n",
    "      tf.keras.layers.Dense(512, activation = 'relu'),\n",
    "      tf.keras.layers.Dense(10),\n",
    "      tf.keras.layers.Softmax(),\n",
    "  ])\n",
    "\n",
    "#       tf.keras.layers.Input(shape=(784,)),\n",
    "#       tf.keras.layers.Dense(10, kernel_initializer='zeros'),\n",
    "#       tf.keras.layers.Softmax(),"
   ]
  },
  {
   "cell_type": "code",
   "execution_count": 71,
   "metadata": {},
   "outputs": [
    {
     "data": {
      "text/plain": [
       "OrderedDict([('x',\n",
       "              TensorSpec(shape=(None, 28, 28, 1), dtype=tf.float32, name=None)),\n",
       "             ('y', TensorSpec(shape=(None, 1), dtype=tf.int32, name=None))])"
      ]
     },
     "execution_count": 71,
     "metadata": {},
     "output_type": "execute_result"
    }
   ],
   "source": [
    "type(preprocessed_example_dataset.element_spec)\n",
    "preprocessed_example_dataset.element_spec"
   ]
  },
  {
   "cell_type": "code",
   "execution_count": 72,
   "metadata": {},
   "outputs": [],
   "source": [
    "def model_fn():\n",
    "  # We _must_ create a new model here, and _not_ capture it from an external\n",
    "  # scope. TFF will call this within different graph contexts.\n",
    "  keras_model = create_keras_model()\n",
    "  return tff.learning.from_keras_model(\n",
    "      keras_model,\n",
    "      input_spec=preprocessed_example_dataset.element_spec,\n",
    "      loss=tf.keras.losses.SparseCategoricalCrossentropy(),\n",
    "      metrics=[tf.keras.metrics.SparseCategoricalAccuracy()])\n"
   ]
  },
  {
   "cell_type": "code",
   "execution_count": 79,
   "metadata": {},
   "outputs": [
    {
     "name": "stdout",
     "output_type": "stream",
     "text": [
      "Model: \"sequential_2\"\n",
      "_________________________________________________________________\n",
      "Layer (type)                 Output Shape              Param #   \n",
      "=================================================================\n",
      "conv2d_4 (Conv2D)            (None, 24, 24, 32)        832       \n",
      "_________________________________________________________________\n",
      "max_pooling2d_4 (MaxPooling2 (None, 12, 12, 32)        0         \n",
      "_________________________________________________________________\n",
      "conv2d_5 (Conv2D)            (None, 8, 8, 64)          51264     \n",
      "_________________________________________________________________\n",
      "max_pooling2d_5 (MaxPooling2 (None, 4, 4, 64)          0         \n",
      "_________________________________________________________________\n",
      "flatten_2 (Flatten)          (None, 1024)              0         \n",
      "_________________________________________________________________\n",
      "dense_4 (Dense)              (None, 512)               524800    \n",
      "_________________________________________________________________\n",
      "dense_5 (Dense)              (None, 10)                5130      \n",
      "_________________________________________________________________\n",
      "softmax_2 (Softmax)          (None, 10)                0         \n",
      "=================================================================\n",
      "Total params: 582,026\n",
      "Trainable params: 582,026\n",
      "Non-trainable params: 0\n",
      "_________________________________________________________________\n"
     ]
    }
   ],
   "source": [
    "keras_model = create_keras_model()\n",
    "keras_model.summary()"
   ]
  },
  {
   "cell_type": "code",
   "execution_count": 74,
   "metadata": {},
   "outputs": [],
   "source": [
    "iterative_process = tff.learning.build_federated_averaging_process(\n",
    "    model_fn,\n",
    "    client_optimizer_fn=lambda: tf.keras.optimizers.SGD(learning_rate=0.02),\n",
    "    server_optimizer_fn=lambda: tf.keras.optimizers.SGD(learning_rate=1.0))"
   ]
  },
  {
   "cell_type": "code",
   "execution_count": 75,
   "metadata": {},
   "outputs": [
    {
     "data": {
      "text/plain": [
       "'( -> <model=<trainable=<float32[5,5,1,32],float32[32],float32[5,5,32,64],float32[64],float32[1024,512],float32[512],float32[512,10],float32[10]>,non_trainable=<>>,optimizer_state=<int64>,delta_aggregate_state=<>,model_broadcast_state=<>>@SERVER)'"
      ]
     },
     "execution_count": 75,
     "metadata": {},
     "output_type": "execute_result"
    }
   ],
   "source": [
    "str(iterative_process.initialize.type_signature)"
   ]
  },
  {
   "cell_type": "code",
   "execution_count": 80,
   "metadata": {},
   "outputs": [],
   "source": [
    "state = iterative_process.initialize()"
   ]
  },
  {
   "cell_type": "code",
   "execution_count": 81,
   "metadata": {},
   "outputs": [
    {
     "name": "stdout",
     "output_type": "stream",
     "text": [
      "round  1, metrics=<sparse_categorical_accuracy=0.12074883282184601,loss=2.304137706756592>\n"
     ]
    }
   ],
   "source": [
    "state, metrics = iterative_process.next(state, federated_train_data)\n",
    "print('round  1, metrics={}'.format(metrics))"
   ]
  },
  {
   "cell_type": "code",
   "execution_count": 82,
   "metadata": {},
   "outputs": [
    {
     "name": "stdout",
     "output_type": "stream",
     "text": [
      "round  2, metrics=<sparse_categorical_accuracy=0.16006240248680115,loss=2.2709944248199463>\n",
      "round  3, metrics=<sparse_categorical_accuracy=0.18668746948242188,loss=2.254620313644409>\n",
      "round  4, metrics=<sparse_categorical_accuracy=0.20842432975769043,loss=2.239936113357544>\n",
      "round  5, metrics=<sparse_categorical_accuracy=0.24035361409187317,loss=2.222548007965088>\n",
      "round  6, metrics=<sparse_categorical_accuracy=0.2627145051956177,loss=2.207554817199707>\n",
      "round  7, metrics=<sparse_categorical_accuracy=0.27041080594062805,loss=2.1893606185913086>\n",
      "round  8, metrics=<sparse_categorical_accuracy=0.2860114276409149,loss=2.168400526046753>\n",
      "round  9, metrics=<sparse_categorical_accuracy=0.31419655680656433,loss=2.138439416885376>\n",
      "round 10, metrics=<sparse_categorical_accuracy=0.3407176434993744,loss=2.1103899478912354>\n",
      "round 11, metrics=<sparse_categorical_accuracy=0.36224648356437683,loss=2.073728084564209>\n",
      "round 12, metrics=<sparse_categorical_accuracy=0.37670305371284485,loss=2.041407823562622>\n",
      "round 13, metrics=<sparse_categorical_accuracy=0.38939157128334045,loss=1.988949179649353>\n",
      "round 14, metrics=<sparse_categorical_accuracy=0.39885595440864563,loss=1.9572715759277344>\n",
      "round 15, metrics=<sparse_categorical_accuracy=0.4378575086593628,loss=1.872888445854187>\n",
      "round 16, metrics=<sparse_categorical_accuracy=0.4792511761188507,loss=1.8000437021255493>\n",
      "round 17, metrics=<sparse_categorical_accuracy=0.5020281076431274,loss=1.7300105094909668>\n",
      "round 18, metrics=<sparse_categorical_accuracy=0.5307332277297974,loss=1.660315752029419>\n",
      "round 19, metrics=<sparse_categorical_accuracy=0.5585023164749146,loss=1.5499367713928223>\n",
      "round 20, metrics=<sparse_categorical_accuracy=0.6152886152267456,loss=1.4278678894042969>\n",
      "round 21, metrics=<sparse_categorical_accuracy=0.6410816311836243,loss=1.3496638536453247>\n",
      "round 22, metrics=<sparse_categorical_accuracy=0.6589703559875488,loss=1.2420340776443481>\n",
      "round 23, metrics=<sparse_categorical_accuracy=0.7043161988258362,loss=1.1159840822219849>\n",
      "round 24, metrics=<sparse_categorical_accuracy=0.738117516040802,loss=1.0252493619918823>\n",
      "round 25, metrics=<sparse_categorical_accuracy=0.7462298274040222,loss=0.9490720629692078>\n",
      "round 26, metrics=<sparse_categorical_accuracy=0.7669267058372498,loss=0.8795170783996582>\n",
      "round 27, metrics=<sparse_categorical_accuracy=0.7884555459022522,loss=0.8127602338790894>\n",
      "round 28, metrics=<sparse_categorical_accuracy=0.8027040958404541,loss=0.7506332993507385>\n",
      "round 29, metrics=<sparse_categorical_accuracy=0.8158086538314819,loss=0.7010048627853394>\n",
      "round 30, metrics=<sparse_categorical_accuracy=0.834113359451294,loss=0.6364595293998718>\n",
      "round 31, metrics=<sparse_categorical_accuracy=0.8306812047958374,loss=0.623827338218689>\n",
      "round 32, metrics=<sparse_categorical_accuracy=0.8404576182365417,loss=0.5891386270523071>\n",
      "round 33, metrics=<sparse_categorical_accuracy=0.8492980003356934,loss=0.5554579496383667>\n",
      "round 34, metrics=<sparse_categorical_accuracy=0.8600103855133057,loss=0.5300827026367188>\n",
      "round 35, metrics=<sparse_categorical_accuracy=0.8662506341934204,loss=0.5132832527160645>\n",
      "round 36, metrics=<sparse_categorical_accuracy=0.8687467575073242,loss=0.4901760220527649>\n",
      "round 37, metrics=<sparse_categorical_accuracy=0.8748829960823059,loss=0.45845329761505127>\n",
      "round 38, metrics=<sparse_categorical_accuracy=0.8799791932106018,loss=0.44808679819107056>\n",
      "round 39, metrics=<sparse_categorical_accuracy=0.8888195753097534,loss=0.4185662269592285>\n",
      "round 40, metrics=<sparse_categorical_accuracy=0.8930837512016296,loss=0.394511342048645>\n",
      "round 41, metrics=<sparse_categorical_accuracy=0.8959958553314209,loss=0.3941345810890198>\n",
      "round 42, metrics=<sparse_categorical_accuracy=0.8950598239898682,loss=0.3891649544239044>\n",
      "round 43, metrics=<sparse_categorical_accuracy=0.9076443314552307,loss=0.35587751865386963>\n",
      "round 44, metrics=<sparse_categorical_accuracy=0.9035881161689758,loss=0.3595099449157715>\n",
      "round 45, metrics=<sparse_categorical_accuracy=0.9055642485618591,loss=0.3567492663860321>\n",
      "round 46, metrics=<sparse_categorical_accuracy=0.9204367995262146,loss=0.3118879199028015>\n",
      "round 47, metrics=<sparse_categorical_accuracy=0.9230369329452515,loss=0.3110809326171875>\n",
      "round 48, metrics=<sparse_categorical_accuracy=0.9240769743919373,loss=0.3056679666042328>\n",
      "round 49, metrics=<sparse_categorical_accuracy=0.9169006943702698,loss=0.30796217918395996>\n",
      "round 50, metrics=<sparse_categorical_accuracy=0.9301092028617859,loss=0.2846868634223938>\n",
      "round 51, metrics=<sparse_categorical_accuracy=0.9216848611831665,loss=0.29657140374183655>\n",
      "round 52, metrics=<sparse_categorical_accuracy=0.9323973059654236,loss=0.2679542601108551>\n",
      "round 53, metrics=<sparse_categorical_accuracy=0.9277170896530151,loss=0.2758937180042267>\n",
      "round 54, metrics=<sparse_categorical_accuracy=0.9300051927566528,loss=0.2730425000190735>\n",
      "round 55, metrics=<sparse_categorical_accuracy=0.9371814727783203,loss=0.25341513752937317>\n",
      "round 56, metrics=<sparse_categorical_accuracy=0.9360374212265015,loss=0.2481280267238617>\n",
      "round 57, metrics=<sparse_categorical_accuracy=0.9415496587753296,loss=0.23859716951847076>\n",
      "round 58, metrics=<sparse_categorical_accuracy=0.9389495849609375,loss=0.24864302575588226>\n",
      "round 59, metrics=<sparse_categorical_accuracy=0.9375975131988525,loss=0.24333012104034424>\n",
      "round 60, metrics=<sparse_categorical_accuracy=0.9476858973503113,loss=0.2195987105369568>\n",
      "round 61, metrics=<sparse_categorical_accuracy=0.9523661136627197,loss=0.20938672125339508>\n",
      "round 62, metrics=<sparse_categorical_accuracy=0.9516380429267883,loss=0.19885757565498352>\n",
      "round 63, metrics=<sparse_categorical_accuracy=0.9456058144569397,loss=0.21658843755722046>\n",
      "round 64, metrics=<sparse_categorical_accuracy=0.9527820944786072,loss=0.1959841400384903>\n",
      "round 65, metrics=<sparse_categorical_accuracy=0.9548621773719788,loss=0.1969500631093979>\n",
      "round 66, metrics=<sparse_categorical_accuracy=0.9545502066612244,loss=0.18837013840675354>\n",
      "round 67, metrics=<sparse_categorical_accuracy=0.9479979276657104,loss=0.21160751581192017>\n",
      "round 68, metrics=<sparse_categorical_accuracy=0.9569422602653503,loss=0.18962986767292023>\n",
      "round 69, metrics=<sparse_categorical_accuracy=0.9511180520057678,loss=0.1964741349220276>\n",
      "round 70, metrics=<sparse_categorical_accuracy=0.9559022188186646,loss=0.18344148993492126>\n",
      "round 71, metrics=<sparse_categorical_accuracy=0.9570462703704834,loss=0.181932270526886>\n",
      "round 72, metrics=<sparse_categorical_accuracy=0.9640145897865295,loss=0.16409394145011902>\n",
      "round 73, metrics=<sparse_categorical_accuracy=0.9542381763458252,loss=0.17988860607147217>\n",
      "round 74, metrics=<sparse_categorical_accuracy=0.9516380429267883,loss=0.18886880576610565>\n",
      "round 75, metrics=<sparse_categorical_accuracy=0.9629745483398438,loss=0.1595541536808014>\n",
      "round 76, metrics=<sparse_categorical_accuracy=0.9569422602653503,loss=0.16920125484466553>\n",
      "round 77, metrics=<sparse_categorical_accuracy=0.9617264866828918,loss=0.1580250859260559>\n",
      "round 78, metrics=<sparse_categorical_accuracy=0.9597504138946533,loss=0.16803975403308868>\n",
      "round 79, metrics=<sparse_categorical_accuracy=0.9629745483398438,loss=0.15498173236846924>\n",
      "round 80, metrics=<sparse_categorical_accuracy=0.9622464776039124,loss=0.15533876419067383>\n",
      "round 81, metrics=<sparse_categorical_accuracy=0.9654706120491028,loss=0.1512480229139328>\n",
      "round 82, metrics=<sparse_categorical_accuracy=0.9686947464942932,loss=0.13817107677459717>\n",
      "round 83, metrics=<sparse_categorical_accuracy=0.9685907363891602,loss=0.13523456454277039>\n",
      "round 84, metrics=<sparse_categorical_accuracy=0.9691107869148254,loss=0.1403018981218338>\n",
      "round 85, metrics=<sparse_categorical_accuracy=0.968278706073761,loss=0.1337454468011856>\n",
      "round 86, metrics=<sparse_categorical_accuracy=0.9680707454681396,loss=0.13487263023853302>\n",
      "round 87, metrics=<sparse_categorical_accuracy=0.965782642364502,loss=0.13704505562782288>\n",
      "round 88, metrics=<sparse_categorical_accuracy=0.9709828495979309,loss=0.1241929680109024>\n",
      "round 89, metrics=<sparse_categorical_accuracy=0.9637025594711304,loss=0.1421278864145279>\n",
      "round 90, metrics=<sparse_categorical_accuracy=0.973582923412323,loss=0.11983215063810349>\n",
      "round 91, metrics=<sparse_categorical_accuracy=0.9686947464942932,loss=0.13272033631801605>\n",
      "round 92, metrics=<sparse_categorical_accuracy=0.9684867262840271,loss=0.13049785792827606>\n",
      "round 93, metrics=<sparse_categorical_accuracy=0.9686947464942932,loss=0.13074059784412384>\n",
      "round 94, metrics=<sparse_categorical_accuracy=0.9747269749641418,loss=0.11478809267282486>\n",
      "round 95, metrics=<sparse_categorical_accuracy=0.9679667353630066,loss=0.12910018861293793>\n",
      "round 96, metrics=<sparse_categorical_accuracy=0.9720228910446167,loss=0.11572182178497314>\n",
      "round 97, metrics=<sparse_categorical_accuracy=0.9728549122810364,loss=0.11415945738554001>\n",
      "round 98, metrics=<sparse_categorical_accuracy=0.973686933517456,loss=0.11445613205432892>\n",
      "round 99, metrics=<sparse_categorical_accuracy=0.968278706073761,loss=0.12436169385910034>\n",
      "round 100, metrics=<sparse_categorical_accuracy=0.9795112013816833,loss=0.0993269756436348>\n",
      "round 101, metrics=<sparse_categorical_accuracy=0.9759750366210938,loss=0.10380570590496063>\n",
      "round 102, metrics=<sparse_categorical_accuracy=0.971190869808197,loss=0.11625881493091583>\n",
      "round 103, metrics=<sparse_categorical_accuracy=0.9742069840431213,loss=0.1063699871301651>\n",
      "round 104, metrics=<sparse_categorical_accuracy=0.9715028405189514,loss=0.11435355246067047>\n",
      "round 105, metrics=<sparse_categorical_accuracy=0.9756630063056946,loss=0.10632912069559097>\n",
      "round 106, metrics=<sparse_categorical_accuracy=0.9784711599349976,loss=0.09576205909252167>\n",
      "round 107, metrics=<sparse_categorical_accuracy=0.9770150780677795,loss=0.09673479944467545>\n",
      "round 108, metrics=<sparse_categorical_accuracy=0.978783130645752,loss=0.09478291124105453>\n",
      "round 109, metrics=<sparse_categorical_accuracy=0.9785751700401306,loss=0.09346287697553635>\n",
      "round 110, metrics=<sparse_categorical_accuracy=0.9770150780677795,loss=0.09504931420087814>\n",
      "round 111, metrics=<sparse_categorical_accuracy=0.9783671498298645,loss=0.09219533205032349>\n",
      "round 112, metrics=<sparse_categorical_accuracy=0.9794071912765503,loss=0.09179645031690598>\n",
      "round 113, metrics=<sparse_categorical_accuracy=0.9761830568313599,loss=0.09861145913600922>\n",
      "round 114, metrics=<sparse_categorical_accuracy=0.9777430891990662,loss=0.09774166345596313>\n",
      "round 115, metrics=<sparse_categorical_accuracy=0.980343222618103,loss=0.08544667065143585>\n",
      "round 116, metrics=<sparse_categorical_accuracy=0.9779511094093323,loss=0.09219027310609818>\n",
      "round 117, metrics=<sparse_categorical_accuracy=0.9809672236442566,loss=0.08395000547170639>\n",
      "round 118, metrics=<sparse_categorical_accuracy=0.980343222618103,loss=0.08302198350429535>\n",
      "round 119, metrics=<sparse_categorical_accuracy=0.9773271083831787,loss=0.09110049903392792>\n",
      "round 120, metrics=<sparse_categorical_accuracy=0.9833593368530273,loss=0.0779770240187645>\n",
      "round 121, metrics=<sparse_categorical_accuracy=0.9793031811714172,loss=0.08285808563232422>\n",
      "round 122, metrics=<sparse_categorical_accuracy=0.9810712337493896,loss=0.08009100705385208>\n",
      "round 123, metrics=<sparse_categorical_accuracy=0.9808632135391235,loss=0.07737751305103302>\n",
      "round 124, metrics=<sparse_categorical_accuracy=0.9795112013816833,loss=0.08486946672201157>\n",
      "round 125, metrics=<sparse_categorical_accuracy=0.9798231720924377,loss=0.08586786687374115>\n",
      "round 126, metrics=<sparse_categorical_accuracy=0.9791991710662842,loss=0.08559325337409973>\n",
      "round 127, metrics=<sparse_categorical_accuracy=0.9849193692207336,loss=0.07135657221078873>\n",
      "round 128, metrics=<sparse_categorical_accuracy=0.9784711599349976,loss=0.08720159530639648>\n",
      "round 129, metrics=<sparse_categorical_accuracy=0.9822152853012085,loss=0.07700180262327194>\n",
      "round 130, metrics=<sparse_categorical_accuracy=0.981695294380188,loss=0.07740986347198486>\n",
      "round 131, metrics=<sparse_categorical_accuracy=0.9858554601669312,loss=0.07065548747777939>\n",
      "round 132, metrics=<sparse_categorical_accuracy=0.9849193692207336,loss=0.07048391550779343>\n",
      "round 133, metrics=<sparse_categorical_accuracy=0.9820072650909424,loss=0.07423167675733566>\n",
      "round 134, metrics=<sparse_categorical_accuracy=0.9819032549858093,loss=0.07481060922145844>\n",
      "round 135, metrics=<sparse_categorical_accuracy=0.9839833378791809,loss=0.07076206803321838>\n",
      "round 136, metrics=<sparse_categorical_accuracy=0.9843993782997131,loss=0.07058177888393402>\n",
      "round 137, metrics=<sparse_categorical_accuracy=0.9863754510879517,loss=0.06530410796403885>\n",
      "round 138, metrics=<sparse_categorical_accuracy=0.9858554601669312,loss=0.0643932968378067>\n",
      "round 139, metrics=<sparse_categorical_accuracy=0.9797191619873047,loss=0.07899721711874008>\n",
      "round 140, metrics=<sparse_categorical_accuracy=0.9847114086151123,loss=0.06955037266016006>\n",
      "round 141, metrics=<sparse_categorical_accuracy=0.985543429851532,loss=0.06441595405340195>\n",
      "round 142, metrics=<sparse_categorical_accuracy=0.9875195026397705,loss=0.06052611768245697>\n",
      "round 143, metrics=<sparse_categorical_accuracy=0.9846073985099792,loss=0.0645127221941948>\n",
      "round 144, metrics=<sparse_categorical_accuracy=0.9862714409828186,loss=0.06653235852718353>\n",
      "round 145, metrics=<sparse_categorical_accuracy=0.9858554601669312,loss=0.06374561786651611>\n",
      "round 146, metrics=<sparse_categorical_accuracy=0.9853354096412659,loss=0.06137833744287491>\n",
      "round 147, metrics=<sparse_categorical_accuracy=0.9882475137710571,loss=0.06086226552724838>\n",
      "round 148, metrics=<sparse_categorical_accuracy=0.9853354096412659,loss=0.06399404257535934>\n",
      "round 149, metrics=<sparse_categorical_accuracy=0.9859594106674194,loss=0.06204305961728096>\n",
      "round 150, metrics=<sparse_categorical_accuracy=0.9860634207725525,loss=0.05869593098759651>\n",
      "round 151, metrics=<sparse_categorical_accuracy=0.9881435036659241,loss=0.05471045523881912>\n",
      "round 152, metrics=<sparse_categorical_accuracy=0.9889755845069885,loss=0.0534777007997036>\n",
      "round 153, metrics=<sparse_categorical_accuracy=0.98023921251297,loss=0.07558363676071167>\n",
      "round 154, metrics=<sparse_categorical_accuracy=0.9873114824295044,loss=0.05693014711141586>\n",
      "round 155, metrics=<sparse_categorical_accuracy=0.9848154187202454,loss=0.058276209980249405>\n",
      "round 156, metrics=<sparse_categorical_accuracy=0.9850233793258667,loss=0.06412635743618011>\n",
      "round 157, metrics=<sparse_categorical_accuracy=0.9884555339813232,loss=0.05248689651489258>\n",
      "round 158, metrics=<sparse_categorical_accuracy=0.989495575428009,loss=0.05182909965515137>\n",
      "round 159, metrics=<sparse_categorical_accuracy=0.9884555339813232,loss=0.05244498699903488>\n",
      "round 160, metrics=<sparse_categorical_accuracy=0.9868955016136169,loss=0.057955194264650345>\n",
      "round 161, metrics=<sparse_categorical_accuracy=0.9874154925346375,loss=0.053476572036743164>\n",
      "round 162, metrics=<sparse_categorical_accuracy=0.9878315329551697,loss=0.0551886111497879>\n",
      "round 163, metrics=<sparse_categorical_accuracy=0.9904316067695618,loss=0.04828944429755211>\n",
      "round 164, metrics=<sparse_categorical_accuracy=0.9872074723243713,loss=0.053484704345464706>\n",
      "round 165, metrics=<sparse_categorical_accuracy=0.9885595440864563,loss=0.05181506276130676>\n",
      "round 166, metrics=<sparse_categorical_accuracy=0.9889755845069885,loss=0.05043961480259895>\n",
      "round 167, metrics=<sparse_categorical_accuracy=0.9898076057434082,loss=0.04845819249749184>\n",
      "round 168, metrics=<sparse_categorical_accuracy=0.9888715744018555,loss=0.04735551029443741>\n",
      "round 169, metrics=<sparse_categorical_accuracy=0.9901195764541626,loss=0.04818635806441307>\n",
      "round 170, metrics=<sparse_categorical_accuracy=0.9887675642967224,loss=0.049424633383750916>\n",
      "round 171, metrics=<sparse_categorical_accuracy=0.9886635541915894,loss=0.04919537529349327>\n",
      "round 172, metrics=<sparse_categorical_accuracy=0.9887675642967224,loss=0.050152260810136795>\n",
      "round 173, metrics=<sparse_categorical_accuracy=0.9898076057434082,loss=0.046456851065158844>\n",
      "round 174, metrics=<sparse_categorical_accuracy=0.9882475137710571,loss=0.05335721746087074>\n",
      "round 175, metrics=<sparse_categorical_accuracy=0.9903275966644287,loss=0.046356696635484695>\n",
      "round 176, metrics=<sparse_categorical_accuracy=0.9881435036659241,loss=0.05247468128800392>\n",
      "round 177, metrics=<sparse_categorical_accuracy=0.9917836785316467,loss=0.04088341072201729>\n",
      "round 178, metrics=<sparse_categorical_accuracy=0.9891835451126099,loss=0.04801402613520622>\n",
      "round 179, metrics=<sparse_categorical_accuracy=0.9910556674003601,loss=0.04400550201535225>\n",
      "round 180, metrics=<sparse_categorical_accuracy=0.9885595440864563,loss=0.0483754463493824>\n",
      "round 181, metrics=<sparse_categorical_accuracy=0.9925116896629333,loss=0.03917001560330391>\n",
      "round 182, metrics=<sparse_categorical_accuracy=0.9899116158485413,loss=0.04490456357598305>\n",
      "round 183, metrics=<sparse_categorical_accuracy=0.9900156259536743,loss=0.04674803465604782>\n",
      "round 184, metrics=<sparse_categorical_accuracy=0.9905356168746948,loss=0.04157229885458946>\n",
      "round 185, metrics=<sparse_categorical_accuracy=0.9912636280059814,loss=0.044564779847860336>\n",
      "round 186, metrics=<sparse_categorical_accuracy=0.990951657295227,loss=0.04122409224510193>\n",
      "round 187, metrics=<sparse_categorical_accuracy=0.9916796684265137,loss=0.042165178805589676>\n",
      "round 188, metrics=<sparse_categorical_accuracy=0.9916796684265137,loss=0.040325503796339035>\n",
      "round 189, metrics=<sparse_categorical_accuracy=0.9882475137710571,loss=0.05159134045243263>\n",
      "round 190, metrics=<sparse_categorical_accuracy=0.990847647190094,loss=0.03858991712331772>\n",
      "round 191, metrics=<sparse_categorical_accuracy=0.9910556674003601,loss=0.04090293124318123>\n",
      "round 192, metrics=<sparse_categorical_accuracy=0.9911596179008484,loss=0.04046366736292839>\n",
      "round 193, metrics=<sparse_categorical_accuracy=0.9924076795578003,loss=0.039386145770549774>\n",
      "round 194, metrics=<sparse_categorical_accuracy=0.990951657295227,loss=0.03795529901981354>\n",
      "round 195, metrics=<sparse_categorical_accuracy=0.9920957088470459,loss=0.03875086084008217>\n",
      "round 196, metrics=<sparse_categorical_accuracy=0.9919916987419128,loss=0.03641115501523018>\n",
      "round 197, metrics=<sparse_categorical_accuracy=0.9897035956382751,loss=0.05054931342601776>\n",
      "round 198, metrics=<sparse_categorical_accuracy=0.9921996593475342,loss=0.04078339785337448>\n",
      "round 199, metrics=<sparse_categorical_accuracy=0.9920957088470459,loss=0.039185814559459686>\n"
     ]
    }
   ],
   "source": [
    "NUM_ROUNDS = 200\n",
    "for round_num in range(2, NUM_ROUNDS):\n",
    "  state, metrics = iterative_process.next(state, federated_train_data)\n",
    "  print('round {:2d}, metrics={}'.format(round_num, metrics))"
   ]
  },
  {
   "cell_type": "code",
   "execution_count": null,
   "metadata": {},
   "outputs": [],
   "source": []
  }
 ],
 "metadata": {
  "kernelspec": {
   "display_name": "Python 3",
   "language": "python",
   "name": "python3"
  },
  "language_info": {
   "codemirror_mode": {
    "name": "ipython",
    "version": 3
   },
   "file_extension": ".py",
   "mimetype": "text/x-python",
   "name": "python",
   "nbconvert_exporter": "python",
   "pygments_lexer": "ipython3",
   "version": "3.6.7"
  }
 },
 "nbformat": 4,
 "nbformat_minor": 4
}
