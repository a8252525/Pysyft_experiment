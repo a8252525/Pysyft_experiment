{
 "cells": [
  {
   "cell_type": "code",
   "execution_count": 1,
   "metadata": {},
   "outputs": [],
   "source": [
    "#@title Licensed under the Apache License, Version 2.0 (the \"License\");\n",
    "# you may not use this file except in compliance with the License.\n",
    "# You may obtain a copy of the License at\n",
    "#\n",
    "# https://www.apache.org/licenses/LICENSE-2.0\n",
    "#\n",
    "# Unless required by applicable law or agreed to in writing, software\n",
    "# distributed under the License is distributed on an \"AS IS\" BASIS,\n",
    "# WITHOUT WARRANTIES OR CONDITIONS OF ANY KIND, either express or implied.\n",
    "# See the License for the specific language governing permissions and\n",
    "# limitations under the License."
   ]
  },
  {
   "cell_type": "code",
   "execution_count": 2,
   "metadata": {},
   "outputs": [
    {
     "data": {
      "text/plain": [
       "b'Hello, World!'"
      ]
     },
     "execution_count": 2,
     "metadata": {},
     "output_type": "execute_result"
    }
   ],
   "source": [
    "import collections\n",
    "\n",
    "import numpy as np\n",
    "import tensorflow as tf\n",
    "import tensorflow_federated as tff\n",
    "\n",
    "tf.compat.v1.enable_v2_behavior()\n",
    "\n",
    "np.random.seed(0)\n",
    "\n",
    "tff.federated_computation(lambda: 'Hello, World!')()"
   ]
  },
  {
   "cell_type": "code",
   "execution_count": 3,
   "metadata": {},
   "outputs": [],
   "source": [
    "emnist_train, emnist_test = tf.keras.datasets.mnist.load_data()"
   ]
  },
  {
   "cell_type": "code",
   "execution_count": 4,
   "metadata": {},
   "outputs": [
    {
     "ename": "AttributeError",
     "evalue": "'tuple' object has no attribute 'client_ids'",
     "output_type": "error",
     "traceback": [
      "\u001b[0;31m---------------------------------------------------------------------------\u001b[0m",
      "\u001b[0;31mAttributeError\u001b[0m                            Traceback (most recent call last)",
      "\u001b[0;32m<ipython-input-4-bc83f94123a6>\u001b[0m in \u001b[0;36m<module>\u001b[0;34m\u001b[0m\n\u001b[0;32m----> 1\u001b[0;31m \u001b[0memnist_train\u001b[0m\u001b[0;34m.\u001b[0m\u001b[0mclient_ids\u001b[0m\u001b[0;34m[\u001b[0m\u001b[0;34m:\u001b[0m\u001b[0;36m10\u001b[0m\u001b[0;34m]\u001b[0m\u001b[0;34m\u001b[0m\u001b[0;34m\u001b[0m\u001b[0m\n\u001b[0m",
      "\u001b[0;31mAttributeError\u001b[0m: 'tuple' object has no attribute 'client_ids'"
     ]
    }
   ],
   "source": [
    "emnist_train.client_ids[:10]"
   ]
  },
  {
   "cell_type": "code",
   "execution_count": null,
   "metadata": {},
   "outputs": [],
   "source": [
    "emnist_train.element_type_structure"
   ]
  },
  {
   "cell_type": "code",
   "execution_count": null,
   "metadata": {},
   "outputs": [],
   "source": [
    "example_dataset = emnist_train.create_tf_dataset_for_client(\n",
    "    emnist_train.client_ids[0])\n",
    "\n",
    "example_element = next(iter(example_dataset))\n",
    "\n",
    "example_element['pixels'].numpy().shape"
   ]
  },
  {
   "cell_type": "code",
   "execution_count": null,
   "metadata": {},
   "outputs": [],
   "source": [
    "%matplotlib inline\n",
    "from matplotlib import pyplot as plt\n",
    "plt.imshow(example_element['pixels'].numpy(), cmap='gray', aspect='equal')\n",
    "plt.grid(False)\n",
    "plt.show()"
   ]
  },
  {
   "cell_type": "code",
   "execution_count": 5,
   "metadata": {},
   "outputs": [
    {
     "name": "stderr",
     "output_type": "stream",
     "text": [
      "100%|██████████| 10/10 [00:58<00:00,  5.84s/it]\n",
      "100%|██████████| 10/10 [00:59<00:00,  5.96s/it]\n",
      "100%|██████████| 10/10 [01:06<00:00,  6.65s/it]\n",
      "100%|██████████| 10/10 [01:07<00:00,  6.79s/it]\n",
      "100%|██████████| 10/10 [01:06<00:00,  6.64s/it]\n",
      "100%|██████████| 10/10 [01:08<00:00,  6.82s/it]\n",
      "100%|██████████| 10/10 [01:05<00:00,  6.50s/it]\n",
      "100%|██████████| 10/10 [01:07<00:00,  6.76s/it]\n",
      "100%|██████████| 10/10 [01:02<00:00,  6.29s/it]\n",
      "100%|██████████| 10/10 [01:02<00:00,  6.22s/it]\n",
      "100%|██████████| 10/10 [01:02<00:00,  6.25s/it]\n",
      "100%|██████████| 10/10 [00:58<00:00,  5.87s/it]\n",
      "100%|██████████| 10/10 [01:00<00:00,  6.07s/it]\n",
      "100%|██████████| 10/10 [01:02<00:00,  6.30s/it]\n",
      "100%|██████████| 10/10 [01:06<00:00,  6.62s/it]\n",
      "100%|██████████| 10/10 [01:05<00:00,  6.53s/it]\n",
      "100%|██████████| 10/10 [01:03<00:00,  6.40s/it]\n",
      "100%|██████████| 10/10 [01:01<00:00,  6.19s/it]\n",
      "100%|██████████| 10/10 [00:58<00:00,  5.90s/it]\n",
      "100%|██████████| 10/10 [00:58<00:00,  5.85s/it]\n"
     ]
    }
   ],
   "source": [
    "# NUM_CLIENTS = 20\n",
    "# NUM_EPOCHS = 5\n",
    "# BATCH_SIZE = 64\n",
    "# SHUFFLE_BUFFER = 100\n",
    "# PREFETCH_BUFFER=10\n",
    "\n",
    "# def preprocess(dataset):\n",
    "\n",
    "#   def batch_format_fn(element):\n",
    "#     \"\"\"Flatten a batch `pixels` and return the features as an `OrderedDict`.\"\"\"\n",
    "#     return collections.OrderedDict(\n",
    "#         x=tf.reshape(element['pixels'],[-1, 28,28,1]),#tf.reshape(element['pixels'], [-1, 784]),\n",
    "#         y=tf.reshape(element['label'], [-1, 1]))\n",
    "\n",
    "#   return dataset.repeat(NUM_EPOCHS).shuffle(SHUFFLE_BUFFER).batch(\n",
    "#       BATCH_SIZE).map(batch_format_fn).prefetch(PREFETCH_BUFFER)\n",
    "NUM_EXAMPLES_PER_USER = 600\n",
    "B = 10\n",
    "BATCH_SIZE = NUM_EXAMPLES_PER_USER//B\n",
    "EPOCHS = 20\n",
    "NUMBER_OF_CLIENTS = 10\n",
    "\n",
    "from tqdm import tqdm\n",
    "\n",
    "def get_data_for_digit(source, digit):\n",
    "  output_sequence = []\n",
    "  all_samples = [i for i, d in enumerate(source[1]) if d == digit]\n",
    "  for i in tqdm(range(0, min(len(all_samples), NUM_EXAMPLES_PER_USER), BATCH_SIZE)):\n",
    "    batch_samples = all_samples[i:i + BATCH_SIZE]\n",
    "    output_sequence.append({\n",
    "        'x':\n",
    "            np.array([tf.reshape(source[0][i],[28,28,1]) for i in batch_samples],\n",
    "                     dtype=np.float32),\n",
    "        'y':\n",
    "            np.array([tf.reshape(source[1][i], [1]) for i in batch_samples], dtype=np.int32)\n",
    "    })\n",
    "  return output_sequence\n",
    "\n",
    "\n",
    "federated_train_data = [get_data_for_digit(emnist_train, d) for d in range(NUMBER_OF_CLIENTS)] * EPOCHS\n",
    "\n",
    "federated_test_data = [get_data_for_digit(emnist_test, d) for d in range(NUMBER_OF_CLIENTS)]\n"
   ]
  },
  {
   "cell_type": "code",
   "execution_count": 6,
   "metadata": {},
   "outputs": [
    {
     "ename": "NameError",
     "evalue": "name 'preprocess' is not defined",
     "output_type": "error",
     "traceback": [
      "\u001b[0;31m---------------------------------------------------------------------------\u001b[0m",
      "\u001b[0;31mNameError\u001b[0m                                 Traceback (most recent call last)",
      "\u001b[0;32m<ipython-input-6-fb81508a3632>\u001b[0m in \u001b[0;36m<module>\u001b[0;34m\u001b[0m\n\u001b[0;32m----> 1\u001b[0;31m \u001b[0mpreprocessed_example_dataset\u001b[0m \u001b[0;34m=\u001b[0m \u001b[0mpreprocess\u001b[0m\u001b[0;34m(\u001b[0m\u001b[0mexample_dataset\u001b[0m\u001b[0;34m)\u001b[0m\u001b[0;34m\u001b[0m\u001b[0;34m\u001b[0m\u001b[0m\n\u001b[0m\u001b[1;32m      2\u001b[0m \u001b[0mpreprocessed_example_dataset\u001b[0m\u001b[0;34m\u001b[0m\u001b[0;34m\u001b[0m\u001b[0m\n\u001b[1;32m      3\u001b[0m sample_batch = tf.nest.map_structure(lambda x: x.numpy(),\n\u001b[1;32m      4\u001b[0m                                      next(iter(preprocessed_example_dataset)))\n\u001b[1;32m      5\u001b[0m \u001b[0msample_batch\u001b[0m\u001b[0;34m[\u001b[0m\u001b[0;34m'y'\u001b[0m\u001b[0;34m]\u001b[0m\u001b[0;34m.\u001b[0m\u001b[0mshape\u001b[0m\u001b[0;34m\u001b[0m\u001b[0;34m\u001b[0m\u001b[0m\n",
      "\u001b[0;31mNameError\u001b[0m: name 'preprocess' is not defined"
     ]
    }
   ],
   "source": [
    "preprocessed_example_dataset = preprocess(example_dataset)\n",
    "preprocessed_example_dataset\n",
    "sample_batch = tf.nest.map_structure(lambda x: x.numpy(),\n",
    "                                     next(iter(preprocessed_example_dataset)))\n",
    "sample_batch['y'].shape\n"
   ]
  },
  {
   "cell_type": "code",
   "execution_count": null,
   "metadata": {},
   "outputs": [],
   "source": [
    "# def make_federated_data(client_data, client_ids):\n",
    "#   return [\n",
    "#       preprocess(client_data.create_tf_dataset_for_client(x))\n",
    "#       for x in client_ids\n",
    "#   ]"
   ]
  },
  {
   "cell_type": "code",
   "execution_count": 7,
   "metadata": {},
   "outputs": [
    {
     "name": "stdout",
     "output_type": "stream",
     "text": [
      "x shape: (60, 28, 28, 1)\n",
      "y shape: (60, 1)\n"
     ]
    }
   ],
   "source": [
    "#next(iter(preprocess(emnist_train.create_tf_dataset_for_client('f0000_14'))))\n",
    "print(\"x shape:\",federated_train_data[0][0]['x'].shape)\n",
    "print(\"y shape:\", federated_train_data[0][0]['y'].shape)\n"
   ]
  },
  {
   "cell_type": "code",
   "execution_count": 8,
   "metadata": {},
   "outputs": [
    {
     "data": {
      "text/plain": [
       "tuple"
      ]
     },
     "execution_count": 8,
     "metadata": {},
     "output_type": "execute_result"
    }
   ],
   "source": [
    "type(emnist_train)"
   ]
  },
  {
   "cell_type": "code",
   "execution_count": 9,
   "metadata": {},
   "outputs": [],
   "source": [
    "#sample_clients = emnist_train.client_ids[0:NUM_CLIENTS]\n",
    "\n",
    "#federated_train_data = make_federated_data(emnist_train, sample_clients)\n",
    "\n",
    "# print('Number of client datasets: {l}'.format(l=len(federated_train_data)))\n",
    "# print('First dataset: {d}'.format(d=federated_train_data[0]))\n",
    "# print('Second dataset: {d}'.format(d=federated_train_data[1]))"
   ]
  },
  {
   "cell_type": "code",
   "execution_count": 10,
   "metadata": {},
   "outputs": [],
   "source": [
    "def create_keras_model():\n",
    "  return tf.keras.models.Sequential([\n",
    "      tf.keras.layers.Input(shape = (28,28,1)),\n",
    "      tf.keras.layers.Conv2D(filters = 32, kernel_size = (5,5), activation = 'relu'),\n",
    "      tf.keras.layers.MaxPool2D(),\n",
    "      tf.keras.layers.Conv2D(filters = 64, kernel_size = (5,5), activation = 'relu'),\n",
    "      tf.keras.layers.MaxPool2D(),\n",
    "      tf.keras.layers.Flatten(),\n",
    "      tf.keras.layers.Dense(512, activation = 'relu'),\n",
    "      tf.keras.layers.Dense(10),\n",
    "      tf.keras.layers.Softmax(),\n",
    "  ])\n",
    "\n",
    "#       tf.keras.layers.Input(shape=(784,)),\n",
    "#       tf.keras.layers.Dense(10, kernel_initializer='zeros'),\n",
    "#       tf.keras.layers.Softmax(),"
   ]
  },
  {
   "cell_type": "code",
   "execution_count": 11,
   "metadata": {},
   "outputs": [],
   "source": [
    "input_spec = collections.OrderedDict(([('x',\n",
    "              tf.TensorSpec(shape=(None, 28, 28, 1), dtype=tf.float32, name=None)),\n",
    "             ('y', tf.TensorSpec(shape=(None, 1), dtype=tf.int32, name=None))]))\n",
    "def model_fn():\n",
    "  # We _must_ create a new model here, and _not_ capture it from an external\n",
    "  # scope. TFF will call this within different graph contexts.\n",
    "  keras_model = create_keras_model()\n",
    "  return tff.learning.from_keras_model(\n",
    "      keras_model,\n",
    "      input_spec=input_spec,\n",
    "      loss=tf.keras.losses.SparseCategoricalCrossentropy(),\n",
    "      metrics=[tf.keras.metrics.SparseCategoricalAccuracy()])\n"
   ]
  },
  {
   "cell_type": "code",
   "execution_count": 12,
   "metadata": {},
   "outputs": [
    {
     "name": "stdout",
     "output_type": "stream",
     "text": [
      "Model: \"sequential\"\n",
      "_________________________________________________________________\n",
      "Layer (type)                 Output Shape              Param #   \n",
      "=================================================================\n",
      "conv2d (Conv2D)              (None, 24, 24, 32)        832       \n",
      "_________________________________________________________________\n",
      "max_pooling2d (MaxPooling2D) (None, 12, 12, 32)        0         \n",
      "_________________________________________________________________\n",
      "conv2d_1 (Conv2D)            (None, 8, 8, 64)          51264     \n",
      "_________________________________________________________________\n",
      "max_pooling2d_1 (MaxPooling2 (None, 4, 4, 64)          0         \n",
      "_________________________________________________________________\n",
      "flatten (Flatten)            (None, 1024)              0         \n",
      "_________________________________________________________________\n",
      "dense (Dense)                (None, 512)               524800    \n",
      "_________________________________________________________________\n",
      "dense_1 (Dense)              (None, 10)                5130      \n",
      "_________________________________________________________________\n",
      "softmax (Softmax)            (None, 10)                0         \n",
      "=================================================================\n",
      "Total params: 582,026\n",
      "Trainable params: 582,026\n",
      "Non-trainable params: 0\n",
      "_________________________________________________________________\n"
     ]
    }
   ],
   "source": [
    "keras_model = create_keras_model()\n",
    "keras_model.summary()"
   ]
  },
  {
   "cell_type": "code",
   "execution_count": 13,
   "metadata": {},
   "outputs": [
    {
     "name": "stdout",
     "output_type": "stream",
     "text": [
      "WARNING:tensorflow:From /opt/conda/lib/python3.6/site-packages/tensorflow/python/ops/resource_variable_ops.py:1666: calling BaseResourceVariable.__init__ (from tensorflow.python.ops.resource_variable_ops) with constraint is deprecated and will be removed in a future version.\n",
      "Instructions for updating:\n",
      "If using Keras pass *_constraint arguments to layers.\n"
     ]
    },
    {
     "name": "stderr",
     "output_type": "stream",
     "text": [
      "WARNING:tensorflow:From /opt/conda/lib/python3.6/site-packages/tensorflow/python/ops/resource_variable_ops.py:1666: calling BaseResourceVariable.__init__ (from tensorflow.python.ops.resource_variable_ops) with constraint is deprecated and will be removed in a future version.\n",
      "Instructions for updating:\n",
      "If using Keras pass *_constraint arguments to layers.\n"
     ]
    }
   ],
   "source": [
    "iterative_process = tff.learning.build_federated_averaging_process(\n",
    "    model_fn,\n",
    "    client_optimizer_fn=lambda: tf.keras.optimizers.SGD(learning_rate=0.02),\n",
    "    server_optimizer_fn=lambda: tf.keras.optimizers.SGD(learning_rate=1.0))"
   ]
  },
  {
   "cell_type": "code",
   "execution_count": 14,
   "metadata": {},
   "outputs": [
    {
     "data": {
      "text/plain": [
       "'( -> <model=<trainable=<float32[5,5,1,32],float32[32],float32[5,5,32,64],float32[64],float32[1024,512],float32[512],float32[512,10],float32[10]>,non_trainable=<>>,optimizer_state=<int64>,delta_aggregate_state=<>,model_broadcast_state=<>>@SERVER)'"
      ]
     },
     "execution_count": 14,
     "metadata": {},
     "output_type": "execute_result"
    }
   ],
   "source": [
    "str(iterative_process.initialize.type_signature)"
   ]
  },
  {
   "cell_type": "code",
   "execution_count": 21,
   "metadata": {},
   "outputs": [],
   "source": [
    "state = iterative_process.initialize()"
   ]
  },
  {
   "cell_type": "code",
   "execution_count": 22,
   "metadata": {},
   "outputs": [
    {
     "name": "stdout",
     "output_type": "stream",
     "text": [
      "round  1, metrics=<sparse_categorical_accuracy=0.9100000262260437,loss=1.448274850845337>\n"
     ]
    }
   ],
   "source": [
    "state, metrics = iterative_process.next(state, federated_train_data)\n",
    "print('round  1, metrics={}'.format(metrics))"
   ]
  },
  {
   "cell_type": "code",
   "execution_count": 23,
   "metadata": {},
   "outputs": [
    {
     "name": "stdout",
     "output_type": "stream",
     "text": [
      "round  2, metrics=<sparse_categorical_accuracy=0.9100000262260437,loss=1.4508851766586304>\n",
      "round  3, metrics=<sparse_categorical_accuracy=0.7981666922569275,loss=2.1321256160736084>\n",
      "round  4, metrics=<sparse_categorical_accuracy=0.8776666522026062,loss=1.6801323890686035>\n",
      "round  5, metrics=<sparse_categorical_accuracy=0.8199999928474426,loss=1.9044439792633057>\n",
      "round  6, metrics=<sparse_categorical_accuracy=0.800000011920929,loss=1.9419260025024414>\n",
      "round  7, metrics=<sparse_categorical_accuracy=0.7799999713897705,loss=1.932559609413147>\n",
      "round  8, metrics=<sparse_categorical_accuracy=0.7900000214576721,loss=1.9248991012573242>\n",
      "round  9, metrics=<sparse_categorical_accuracy=0.7900000214576721,loss=1.9180805683135986>\n",
      "round 10, metrics=<sparse_categorical_accuracy=0.7900000214576721,loss=1.912139892578125>\n",
      "round 11, metrics=<sparse_categorical_accuracy=0.800000011920929,loss=1.9066455364227295>\n",
      "round 12, metrics=<sparse_categorical_accuracy=0.8100000023841858,loss=1.9014450311660767>\n",
      "round 13, metrics=<sparse_categorical_accuracy=0.800000011920929,loss=1.8964757919311523>\n",
      "round 14, metrics=<sparse_categorical_accuracy=0.800000011920929,loss=1.891685128211975>\n",
      "round 15, metrics=<sparse_categorical_accuracy=0.8100000023841858,loss=1.8868627548217773>\n",
      "round 16, metrics=<sparse_categorical_accuracy=0.8100000023841858,loss=1.882112741470337>\n",
      "round 17, metrics=<sparse_categorical_accuracy=0.8100000023841858,loss=1.8773523569107056>\n",
      "round 18, metrics=<sparse_categorical_accuracy=0.8100000023841858,loss=1.8727325201034546>\n",
      "round 19, metrics=<sparse_categorical_accuracy=0.8199999928474426,loss=1.8680369853973389>\n",
      "round 20, metrics=<sparse_categorical_accuracy=0.8199999928474426,loss=1.8633954524993896>\n",
      "round 21, metrics=<sparse_categorical_accuracy=0.8299999833106995,loss=1.8587185144424438>\n",
      "round 22, metrics=<sparse_categorical_accuracy=0.8299999833106995,loss=1.8540911674499512>\n",
      "round 23, metrics=<sparse_categorical_accuracy=0.8299999833106995,loss=1.8494067192077637>\n",
      "round 24, metrics=<sparse_categorical_accuracy=0.8299999833106995,loss=1.8448578119277954>\n",
      "round 25, metrics=<sparse_categorical_accuracy=0.8299999833106995,loss=1.840063452720642>\n",
      "round 26, metrics=<sparse_categorical_accuracy=0.8299999833106995,loss=1.8353580236434937>\n",
      "round 27, metrics=<sparse_categorical_accuracy=0.8399999737739563,loss=1.8305938243865967>\n",
      "round 28, metrics=<sparse_categorical_accuracy=0.8500000238418579,loss=1.8257046937942505>\n",
      "round 29, metrics=<sparse_categorical_accuracy=0.8500000238418579,loss=1.820809245109558>\n",
      "round 30, metrics=<sparse_categorical_accuracy=0.8500000238418579,loss=1.816017985343933>\n",
      "round 31, metrics=<sparse_categorical_accuracy=0.8700000047683716,loss=1.810988187789917>\n",
      "round 32, metrics=<sparse_categorical_accuracy=0.8700000047683716,loss=1.8059020042419434>\n",
      "round 33, metrics=<sparse_categorical_accuracy=0.8700000047683716,loss=1.8007771968841553>\n",
      "round 34, metrics=<sparse_categorical_accuracy=0.8700000047683716,loss=1.7956117391586304>\n",
      "round 35, metrics=<sparse_categorical_accuracy=0.8700000047683716,loss=1.7904077768325806>\n",
      "round 36, metrics=<sparse_categorical_accuracy=0.8700000047683716,loss=1.7851285934448242>\n",
      "round 37, metrics=<sparse_categorical_accuracy=0.8700000047683716,loss=1.7798489332199097>\n",
      "round 38, metrics=<sparse_categorical_accuracy=0.8700000047683716,loss=1.774487018585205>\n",
      "round 39, metrics=<sparse_categorical_accuracy=0.8700000047683716,loss=1.7690612077713013>\n",
      "round 40, metrics=<sparse_categorical_accuracy=0.8799999952316284,loss=1.7636406421661377>\n",
      "round 41, metrics=<sparse_categorical_accuracy=0.8799999952316284,loss=1.7580323219299316>\n",
      "round 42, metrics=<sparse_categorical_accuracy=0.8799999952316284,loss=1.752457857131958>\n",
      "round 43, metrics=<sparse_categorical_accuracy=0.8799999952316284,loss=1.746825933456421>\n",
      "round 44, metrics=<sparse_categorical_accuracy=0.8799999952316284,loss=1.7411832809448242>\n",
      "round 45, metrics=<sparse_categorical_accuracy=0.8799999952316284,loss=1.7353758811950684>\n",
      "round 46, metrics=<sparse_categorical_accuracy=0.8799999952316284,loss=1.7296737432479858>\n",
      "round 47, metrics=<sparse_categorical_accuracy=0.8799999952316284,loss=1.723802089691162>\n",
      "round 48, metrics=<sparse_categorical_accuracy=0.8799999952316284,loss=1.7178946733474731>\n",
      "round 49, metrics=<sparse_categorical_accuracy=0.8899999856948853,loss=1.7119168043136597>\n",
      "round 50, metrics=<sparse_categorical_accuracy=0.8899999856948853,loss=1.7059152126312256>\n",
      "round 51, metrics=<sparse_categorical_accuracy=0.8899999856948853,loss=1.6999377012252808>\n",
      "round 52, metrics=<sparse_categorical_accuracy=0.8899999856948853,loss=1.6938788890838623>\n",
      "round 53, metrics=<sparse_categorical_accuracy=0.8899999856948853,loss=1.687892198562622>\n",
      "round 54, metrics=<sparse_categorical_accuracy=0.8899999856948853,loss=1.6816654205322266>\n",
      "round 55, metrics=<sparse_categorical_accuracy=0.8899999856948853,loss=1.6755682229995728>\n",
      "round 56, metrics=<sparse_categorical_accuracy=0.8899999856948853,loss=1.669345736503601>\n",
      "round 57, metrics=<sparse_categorical_accuracy=0.8899999856948853,loss=1.6631749868392944>\n",
      "round 58, metrics=<sparse_categorical_accuracy=0.8999999761581421,loss=1.657024621963501>\n",
      "round 59, metrics=<sparse_categorical_accuracy=0.8999999761581421,loss=1.65083646774292>\n",
      "round 60, metrics=<sparse_categorical_accuracy=0.8999999761581421,loss=1.644680380821228>\n",
      "round 61, metrics=<sparse_categorical_accuracy=0.8999999761581421,loss=1.6385178565979004>\n",
      "round 62, metrics=<sparse_categorical_accuracy=0.8999999761581421,loss=1.6323368549346924>\n",
      "round 63, metrics=<sparse_categorical_accuracy=0.8999999761581421,loss=1.626150131225586>\n",
      "round 64, metrics=<sparse_categorical_accuracy=0.8999999761581421,loss=1.6199349164962769>\n",
      "round 65, metrics=<sparse_categorical_accuracy=0.8999999761581421,loss=1.6137950420379639>\n",
      "round 66, metrics=<sparse_categorical_accuracy=0.8999999761581421,loss=1.6075574159622192>\n",
      "round 67, metrics=<sparse_categorical_accuracy=0.8999999761581421,loss=1.6013562679290771>\n",
      "round 68, metrics=<sparse_categorical_accuracy=0.8999999761581421,loss=1.595263957977295>\n",
      "round 69, metrics=<sparse_categorical_accuracy=0.8999999761581421,loss=1.589064598083496>\n",
      "round 70, metrics=<sparse_categorical_accuracy=0.8999999761581421,loss=1.5829190015792847>\n",
      "round 71, metrics=<sparse_categorical_accuracy=0.8999999761581421,loss=1.57686448097229>\n",
      "round 72, metrics=<sparse_categorical_accuracy=0.8999999761581421,loss=1.5707372426986694>\n",
      "round 73, metrics=<sparse_categorical_accuracy=0.8999999761581421,loss=1.5646495819091797>\n",
      "round 74, metrics=<sparse_categorical_accuracy=0.9100000262260437,loss=1.5585814714431763>\n",
      "round 75, metrics=<sparse_categorical_accuracy=0.9100000262260437,loss=1.5525497198104858>\n",
      "round 76, metrics=<sparse_categorical_accuracy=0.9100000262260437,loss=1.5465387105941772>\n",
      "round 77, metrics=<sparse_categorical_accuracy=0.9100000262260437,loss=1.5405709743499756>\n",
      "round 78, metrics=<sparse_categorical_accuracy=0.9100000262260437,loss=1.5345184803009033>\n",
      "round 79, metrics=<sparse_categorical_accuracy=0.9100000262260437,loss=1.528632640838623>\n",
      "round 80, metrics=<sparse_categorical_accuracy=0.9100000262260437,loss=1.5225788354873657>\n",
      "round 81, metrics=<sparse_categorical_accuracy=0.9100000262260437,loss=1.5167146921157837>\n",
      "round 82, metrics=<sparse_categorical_accuracy=0.9100000262260437,loss=1.5108082294464111>\n",
      "round 83, metrics=<sparse_categorical_accuracy=0.9100000262260437,loss=1.5049428939819336>\n",
      "round 84, metrics=<sparse_categorical_accuracy=0.9100000262260437,loss=1.498985767364502>\n",
      "round 85, metrics=<sparse_categorical_accuracy=0.9100000262260437,loss=1.4931325912475586>\n",
      "round 86, metrics=<sparse_categorical_accuracy=0.9100000262260437,loss=1.4872452020645142>\n",
      "round 87, metrics=<sparse_categorical_accuracy=0.9100000262260437,loss=1.481371521949768>\n",
      "round 88, metrics=<sparse_categorical_accuracy=0.9100000262260437,loss=1.4755027294158936>\n",
      "round 89, metrics=<sparse_categorical_accuracy=0.9100000262260437,loss=1.469697117805481>\n",
      "round 90, metrics=<sparse_categorical_accuracy=0.9100000262260437,loss=1.4638946056365967>\n",
      "round 91, metrics=<sparse_categorical_accuracy=0.9100000262260437,loss=1.4580644369125366>\n",
      "round 92, metrics=<sparse_categorical_accuracy=0.9100000262260437,loss=1.4522582292556763>\n",
      "round 93, metrics=<sparse_categorical_accuracy=0.9100000262260437,loss=1.4464352130889893>\n",
      "round 94, metrics=<sparse_categorical_accuracy=0.9100000262260437,loss=1.4406654834747314>\n",
      "round 95, metrics=<sparse_categorical_accuracy=0.9100000262260437,loss=1.4347999095916748>\n",
      "round 96, metrics=<sparse_categorical_accuracy=0.9100000262260437,loss=1.428990125656128>\n",
      "round 97, metrics=<sparse_categorical_accuracy=0.9100000262260437,loss=1.423124074935913>\n",
      "round 98, metrics=<sparse_categorical_accuracy=0.9100000262260437,loss=1.4172922372817993>\n",
      "round 99, metrics=<sparse_categorical_accuracy=0.9100000262260437,loss=1.411407470703125>\n",
      "round 100, metrics=<sparse_categorical_accuracy=0.9100000262260437,loss=1.4055403470993042>\n",
      "round 101, metrics=<sparse_categorical_accuracy=0.9100000262260437,loss=1.3996714353561401>\n",
      "round 102, metrics=<sparse_categorical_accuracy=0.9100000262260437,loss=1.3937678337097168>\n",
      "round 103, metrics=<sparse_categorical_accuracy=0.9100000262260437,loss=1.3878161907196045>\n",
      "round 104, metrics=<sparse_categorical_accuracy=0.9100000262260437,loss=1.3818742036819458>\n",
      "round 105, metrics=<sparse_categorical_accuracy=0.9100000262260437,loss=1.3759382963180542>\n",
      "round 106, metrics=<sparse_categorical_accuracy=0.9100000262260437,loss=1.369986891746521>\n",
      "round 107, metrics=<sparse_categorical_accuracy=0.9100000262260437,loss=1.363969326019287>\n",
      "round 108, metrics=<sparse_categorical_accuracy=0.9100000262260437,loss=1.3579291105270386>\n",
      "round 109, metrics=<sparse_categorical_accuracy=0.9100000262260437,loss=1.3519190549850464>\n",
      "round 110, metrics=<sparse_categorical_accuracy=0.9100000262260437,loss=1.345873236656189>\n",
      "round 111, metrics=<sparse_categorical_accuracy=0.9100000262260437,loss=1.3398351669311523>\n",
      "round 112, metrics=<sparse_categorical_accuracy=0.9100000262260437,loss=1.3337761163711548>\n",
      "round 113, metrics=<sparse_categorical_accuracy=0.9100000262260437,loss=1.3277026414871216>\n",
      "round 114, metrics=<sparse_categorical_accuracy=0.9100000262260437,loss=1.321625828742981>\n",
      "round 115, metrics=<sparse_categorical_accuracy=0.9100000262260437,loss=1.3155215978622437>\n",
      "round 116, metrics=<sparse_categorical_accuracy=0.9100000262260437,loss=1.309377908706665>\n",
      "round 117, metrics=<sparse_categorical_accuracy=0.9100000262260437,loss=1.3032116889953613>\n",
      "round 118, metrics=<sparse_categorical_accuracy=0.9100000262260437,loss=1.2970589399337769>\n",
      "round 119, metrics=<sparse_categorical_accuracy=0.9100000262260437,loss=1.2909244298934937>\n",
      "round 120, metrics=<sparse_categorical_accuracy=0.9100000262260437,loss=1.284778118133545>\n",
      "round 121, metrics=<sparse_categorical_accuracy=0.9100000262260437,loss=1.2786283493041992>\n",
      "round 122, metrics=<sparse_categorical_accuracy=0.9100000262260437,loss=1.2724637985229492>\n",
      "round 123, metrics=<sparse_categorical_accuracy=0.9100000262260437,loss=1.2663038969039917>\n",
      "round 124, metrics=<sparse_categorical_accuracy=0.9100000262260437,loss=1.2601085901260376>\n",
      "round 125, metrics=<sparse_categorical_accuracy=0.9100000262260437,loss=1.253940224647522>\n",
      "round 126, metrics=<sparse_categorical_accuracy=0.9100000262260437,loss=1.247776746749878>\n",
      "round 127, metrics=<sparse_categorical_accuracy=0.9100000262260437,loss=1.2416117191314697>\n",
      "round 128, metrics=<sparse_categorical_accuracy=0.9100000262260437,loss=1.2354536056518555>\n",
      "round 129, metrics=<sparse_categorical_accuracy=0.9100000262260437,loss=1.2292579412460327>\n",
      "round 130, metrics=<sparse_categorical_accuracy=0.9100000262260437,loss=1.2230851650238037>\n",
      "round 131, metrics=<sparse_categorical_accuracy=0.9100000262260437,loss=1.2169075012207031>\n",
      "round 132, metrics=<sparse_categorical_accuracy=0.9100000262260437,loss=1.2107501029968262>\n",
      "round 133, metrics=<sparse_categorical_accuracy=0.9100000262260437,loss=1.2046047449111938>\n",
      "round 134, metrics=<sparse_categorical_accuracy=0.9100000262260437,loss=1.1984584331512451>\n",
      "round 135, metrics=<sparse_categorical_accuracy=0.9100000262260437,loss=1.1923303604125977>\n",
      "round 136, metrics=<sparse_categorical_accuracy=0.9100000262260437,loss=1.1862090826034546>\n",
      "round 137, metrics=<sparse_categorical_accuracy=0.9100000262260437,loss=1.180085301399231>\n",
      "round 138, metrics=<sparse_categorical_accuracy=0.9100000262260437,loss=1.1739882230758667>\n",
      "round 139, metrics=<sparse_categorical_accuracy=0.9100000262260437,loss=1.1679033041000366>\n",
      "round 140, metrics=<sparse_categorical_accuracy=0.9100000262260437,loss=1.161831021308899>\n",
      "round 141, metrics=<sparse_categorical_accuracy=0.9100000262260437,loss=1.155778408050537>\n",
      "round 142, metrics=<sparse_categorical_accuracy=0.9100000262260437,loss=1.1497420072555542>\n",
      "round 143, metrics=<sparse_categorical_accuracy=0.9100000262260437,loss=1.1437228918075562>\n",
      "round 144, metrics=<sparse_categorical_accuracy=0.9100000262260437,loss=1.1377229690551758>\n",
      "round 145, metrics=<sparse_categorical_accuracy=0.9100000262260437,loss=1.1317402124404907>\n",
      "round 146, metrics=<sparse_categorical_accuracy=0.9100000262260437,loss=1.125777006149292>\n",
      "round 147, metrics=<sparse_categorical_accuracy=0.9100000262260437,loss=1.1198338270187378>\n",
      "round 148, metrics=<sparse_categorical_accuracy=0.9100000262260437,loss=1.1139106750488281>\n",
      "round 149, metrics=<sparse_categorical_accuracy=0.9100000262260437,loss=1.1080125570297241>\n",
      "round 150, metrics=<sparse_categorical_accuracy=0.9100000262260437,loss=1.1021437644958496>\n",
      "round 151, metrics=<sparse_categorical_accuracy=0.9100000262260437,loss=1.0962971448898315>\n",
      "round 152, metrics=<sparse_categorical_accuracy=0.9100000262260437,loss=1.0904760360717773>\n",
      "round 153, metrics=<sparse_categorical_accuracy=0.9100000262260437,loss=1.0846823453903198>\n",
      "round 154, metrics=<sparse_categorical_accuracy=0.9100000262260437,loss=1.0789151191711426>\n",
      "round 155, metrics=<sparse_categorical_accuracy=0.9100000262260437,loss=1.0731744766235352>\n",
      "round 156, metrics=<sparse_categorical_accuracy=0.9100000262260437,loss=1.067464828491211>\n",
      "round 157, metrics=<sparse_categorical_accuracy=0.9100000262260437,loss=1.0617830753326416>\n",
      "round 158, metrics=<sparse_categorical_accuracy=0.9100000262260437,loss=1.0561355352401733>\n",
      "round 159, metrics=<sparse_categorical_accuracy=0.9100000262260437,loss=1.0505181550979614>\n",
      "round 160, metrics=<sparse_categorical_accuracy=0.9100000262260437,loss=1.0449309349060059>\n",
      "round 161, metrics=<sparse_categorical_accuracy=0.9100000262260437,loss=1.0393800735473633>\n",
      "round 162, metrics=<sparse_categorical_accuracy=0.9100000262260437,loss=1.0338616371154785>\n",
      "round 163, metrics=<sparse_categorical_accuracy=0.9100000262260437,loss=1.0283757448196411>\n",
      "round 164, metrics=<sparse_categorical_accuracy=0.9100000262260437,loss=1.0229254961013794>\n",
      "round 165, metrics=<sparse_categorical_accuracy=0.9100000262260437,loss=1.0175098180770874>\n",
      "round 166, metrics=<sparse_categorical_accuracy=0.9100000262260437,loss=1.0121302604675293>\n",
      "round 167, metrics=<sparse_categorical_accuracy=0.9100000262260437,loss=1.0067858695983887>\n",
      "round 168, metrics=<sparse_categorical_accuracy=0.9100000262260437,loss=1.0014781951904297>\n",
      "round 169, metrics=<sparse_categorical_accuracy=0.9100000262260437,loss=0.9962085485458374>\n",
      "round 170, metrics=<sparse_categorical_accuracy=0.9100000262260437,loss=0.9909743666648865>\n",
      "round 171, metrics=<sparse_categorical_accuracy=0.9100000262260437,loss=0.9857791066169739>\n",
      "round 172, metrics=<sparse_categorical_accuracy=0.9100000262260437,loss=0.9806220531463623>\n",
      "round 173, metrics=<sparse_categorical_accuracy=0.9100000262260437,loss=0.9755021333694458>\n",
      "round 174, metrics=<sparse_categorical_accuracy=0.9100000262260437,loss=0.970422089099884>\n",
      "round 175, metrics=<sparse_categorical_accuracy=0.9100000262260437,loss=0.9653761982917786>\n",
      "round 176, metrics=<sparse_categorical_accuracy=0.9100000262260437,loss=0.9603695869445801>\n",
      "round 177, metrics=<sparse_categorical_accuracy=0.9100000262260437,loss=0.9554034471511841>\n",
      "round 178, metrics=<sparse_categorical_accuracy=0.9100000262260437,loss=0.9504745006561279>\n",
      "round 179, metrics=<sparse_categorical_accuracy=0.9100000262260437,loss=0.9455946087837219>\n",
      "round 180, metrics=<sparse_categorical_accuracy=0.9100000262260437,loss=0.9407520294189453>\n",
      "round 181, metrics=<sparse_categorical_accuracy=0.9100000262260437,loss=0.9359488487243652>\n",
      "round 182, metrics=<sparse_categorical_accuracy=0.9100000262260437,loss=0.9311867952346802>\n",
      "round 183, metrics=<sparse_categorical_accuracy=0.9100000262260437,loss=0.9264650940895081>\n",
      "round 184, metrics=<sparse_categorical_accuracy=0.9100000262260437,loss=0.9217866063117981>\n",
      "round 185, metrics=<sparse_categorical_accuracy=0.9100000262260437,loss=0.917149543762207>\n",
      "round 186, metrics=<sparse_categorical_accuracy=0.9100000262260437,loss=0.9125518798828125>\n",
      "round 187, metrics=<sparse_categorical_accuracy=0.9100000262260437,loss=0.9079935550689697>\n",
      "round 188, metrics=<sparse_categorical_accuracy=0.9100000262260437,loss=0.9034752249717712>\n",
      "round 189, metrics=<sparse_categorical_accuracy=0.9100000262260437,loss=0.8989964723587036>\n",
      "round 190, metrics=<sparse_categorical_accuracy=0.9100000262260437,loss=0.894557535648346>\n",
      "round 191, metrics=<sparse_categorical_accuracy=0.9100000262260437,loss=0.8901583552360535>\n",
      "round 192, metrics=<sparse_categorical_accuracy=0.9100000262260437,loss=0.8857981562614441>\n",
      "round 193, metrics=<sparse_categorical_accuracy=0.9100000262260437,loss=0.8814771771430969>\n",
      "round 194, metrics=<sparse_categorical_accuracy=0.9100000262260437,loss=0.8771957159042358>\n",
      "round 195, metrics=<sparse_categorical_accuracy=0.9100000262260437,loss=0.8729535341262817>\n",
      "round 196, metrics=<sparse_categorical_accuracy=0.9100000262260437,loss=0.8687500357627869>\n",
      "round 197, metrics=<sparse_categorical_accuracy=0.9100000262260437,loss=0.864585816860199>\n",
      "round 198, metrics=<sparse_categorical_accuracy=0.9100000262260437,loss=0.8604592680931091>\n",
      "round 199, metrics=<sparse_categorical_accuracy=0.9100000262260437,loss=0.856372058391571>\n"
     ]
    }
   ],
   "source": [
    "NUM_ROUNDS = 200\n",
    "for round_num in range(2, NUM_ROUNDS):\n",
    "  state, metrics = iterative_process.next(state, federated_train_data)\n",
    "  print('round {:2d}, metrics={}'.format(round_num, metrics))"
   ]
  },
  {
   "cell_type": "code",
   "execution_count": null,
   "metadata": {},
   "outputs": [],
   "source": []
  }
 ],
 "metadata": {
  "kernelspec": {
   "display_name": "Python 3",
   "language": "python",
   "name": "python3"
  },
  "language_info": {
   "codemirror_mode": {
    "name": "ipython",
    "version": 3
   },
   "file_extension": ".py",
   "mimetype": "text/x-python",
   "name": "python",
   "nbconvert_exporter": "python",
   "pygments_lexer": "ipython3",
   "version": "3.6.7"
  }
 },
 "nbformat": 4,
 "nbformat_minor": 4
}
